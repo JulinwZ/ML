{
 "cells": [
  {
   "cell_type": "code",
   "execution_count": 17,
   "id": "06586b86",
   "metadata": {},
   "outputs": [
    {
     "data": {
      "text/html": [
       "<div>\n",
       "<style scoped>\n",
       "    .dataframe tbody tr th:only-of-type {\n",
       "        vertical-align: middle;\n",
       "    }\n",
       "\n",
       "    .dataframe tbody tr th {\n",
       "        vertical-align: top;\n",
       "    }\n",
       "\n",
       "    .dataframe thead th {\n",
       "        text-align: right;\n",
       "    }\n",
       "</style>\n",
       "<table border=\"1\" class=\"dataframe\">\n",
       "  <thead>\n",
       "    <tr style=\"text-align: right;\">\n",
       "      <th></th>\n",
       "      <th>UTC</th>\n",
       "      <th>Temperature[C]</th>\n",
       "      <th>Humidity[%]</th>\n",
       "      <th>TVOC[ppb]</th>\n",
       "      <th>eCO2[ppm]</th>\n",
       "      <th>Raw H2</th>\n",
       "      <th>Raw Ethanol</th>\n",
       "      <th>Pressure[hPa]</th>\n",
       "      <th>PM1.0</th>\n",
       "      <th>PM2.5</th>\n",
       "      <th>NC0.5</th>\n",
       "      <th>NC1.0</th>\n",
       "      <th>NC2.5</th>\n",
       "      <th>CNT</th>\n",
       "      <th>Fire Alarm</th>\n",
       "    </tr>\n",
       "  </thead>\n",
       "  <tbody>\n",
       "    <tr>\n",
       "      <th>0</th>\n",
       "      <td>1654733331</td>\n",
       "      <td>20.000</td>\n",
       "      <td>57.36</td>\n",
       "      <td>0.0</td>\n",
       "      <td>400.0</td>\n",
       "      <td>12306.0</td>\n",
       "      <td>18520</td>\n",
       "      <td>939.735</td>\n",
       "      <td>0.00</td>\n",
       "      <td>0.00</td>\n",
       "      <td>0.00</td>\n",
       "      <td>0.000</td>\n",
       "      <td>0.000</td>\n",
       "      <td>0</td>\n",
       "      <td>No</td>\n",
       "    </tr>\n",
       "    <tr>\n",
       "      <th>1</th>\n",
       "      <td>1654733332</td>\n",
       "      <td>20.015</td>\n",
       "      <td>56.67</td>\n",
       "      <td>0.0</td>\n",
       "      <td>400.0</td>\n",
       "      <td>12345.0</td>\n",
       "      <td>18651</td>\n",
       "      <td>939.744</td>\n",
       "      <td>0.00</td>\n",
       "      <td>0.00</td>\n",
       "      <td>0.00</td>\n",
       "      <td>0.000</td>\n",
       "      <td>0.000</td>\n",
       "      <td>1</td>\n",
       "      <td>No</td>\n",
       "    </tr>\n",
       "    <tr>\n",
       "      <th>2</th>\n",
       "      <td>1654733333</td>\n",
       "      <td>20.029</td>\n",
       "      <td>55.96</td>\n",
       "      <td>0.0</td>\n",
       "      <td>400.0</td>\n",
       "      <td>12374.0</td>\n",
       "      <td>18764</td>\n",
       "      <td>939.738</td>\n",
       "      <td>0.00</td>\n",
       "      <td>0.00</td>\n",
       "      <td>0.00</td>\n",
       "      <td>0.000</td>\n",
       "      <td>0.000</td>\n",
       "      <td>2</td>\n",
       "      <td>No</td>\n",
       "    </tr>\n",
       "    <tr>\n",
       "      <th>3</th>\n",
       "      <td>1654733334</td>\n",
       "      <td>20.044</td>\n",
       "      <td>55.28</td>\n",
       "      <td>0.0</td>\n",
       "      <td>400.0</td>\n",
       "      <td>12390.0</td>\n",
       "      <td>18849</td>\n",
       "      <td>939.736</td>\n",
       "      <td>0.00</td>\n",
       "      <td>0.00</td>\n",
       "      <td>0.00</td>\n",
       "      <td>0.000</td>\n",
       "      <td>0.000</td>\n",
       "      <td>3</td>\n",
       "      <td>No</td>\n",
       "    </tr>\n",
       "    <tr>\n",
       "      <th>4</th>\n",
       "      <td>1654733335</td>\n",
       "      <td>20.059</td>\n",
       "      <td>54.69</td>\n",
       "      <td>0.0</td>\n",
       "      <td>400.0</td>\n",
       "      <td>12403.0</td>\n",
       "      <td>18921</td>\n",
       "      <td>939.744</td>\n",
       "      <td>0.00</td>\n",
       "      <td>0.00</td>\n",
       "      <td>0.00</td>\n",
       "      <td>0.000</td>\n",
       "      <td>0.000</td>\n",
       "      <td>4</td>\n",
       "      <td>No</td>\n",
       "    </tr>\n",
       "    <tr>\n",
       "      <th>...</th>\n",
       "      <td>...</td>\n",
       "      <td>...</td>\n",
       "      <td>...</td>\n",
       "      <td>...</td>\n",
       "      <td>...</td>\n",
       "      <td>...</td>\n",
       "      <td>...</td>\n",
       "      <td>...</td>\n",
       "      <td>...</td>\n",
       "      <td>...</td>\n",
       "      <td>...</td>\n",
       "      <td>...</td>\n",
       "      <td>...</td>\n",
       "      <td>...</td>\n",
       "      <td>...</td>\n",
       "    </tr>\n",
       "    <tr>\n",
       "      <th>62625</th>\n",
       "      <td>1655130047</td>\n",
       "      <td>18.438</td>\n",
       "      <td>15.79</td>\n",
       "      <td>625.0</td>\n",
       "      <td>400.0</td>\n",
       "      <td>13723.0</td>\n",
       "      <td>20569</td>\n",
       "      <td>936.670</td>\n",
       "      <td>0.63</td>\n",
       "      <td>0.65</td>\n",
       "      <td>4.32</td>\n",
       "      <td>0.673</td>\n",
       "      <td>0.015</td>\n",
       "      <td>5739</td>\n",
       "      <td>No</td>\n",
       "    </tr>\n",
       "    <tr>\n",
       "      <th>62626</th>\n",
       "      <td>1655130048</td>\n",
       "      <td>18.653</td>\n",
       "      <td>15.87</td>\n",
       "      <td>612.0</td>\n",
       "      <td>400.0</td>\n",
       "      <td>13731.0</td>\n",
       "      <td>20588</td>\n",
       "      <td>936.678</td>\n",
       "      <td>0.61</td>\n",
       "      <td>0.63</td>\n",
       "      <td>4.18</td>\n",
       "      <td>0.652</td>\n",
       "      <td>0.015</td>\n",
       "      <td>5740</td>\n",
       "      <td>No</td>\n",
       "    </tr>\n",
       "    <tr>\n",
       "      <th>62627</th>\n",
       "      <td>1655130049</td>\n",
       "      <td>18.867</td>\n",
       "      <td>15.84</td>\n",
       "      <td>627.0</td>\n",
       "      <td>400.0</td>\n",
       "      <td>13725.0</td>\n",
       "      <td>20582</td>\n",
       "      <td>936.687</td>\n",
       "      <td>0.57</td>\n",
       "      <td>0.60</td>\n",
       "      <td>3.95</td>\n",
       "      <td>0.617</td>\n",
       "      <td>0.014</td>\n",
       "      <td>5741</td>\n",
       "      <td>No</td>\n",
       "    </tr>\n",
       "    <tr>\n",
       "      <th>62628</th>\n",
       "      <td>1655130050</td>\n",
       "      <td>19.083</td>\n",
       "      <td>16.04</td>\n",
       "      <td>638.0</td>\n",
       "      <td>400.0</td>\n",
       "      <td>13712.0</td>\n",
       "      <td>20566</td>\n",
       "      <td>936.680</td>\n",
       "      <td>0.57</td>\n",
       "      <td>0.59</td>\n",
       "      <td>3.92</td>\n",
       "      <td>0.611</td>\n",
       "      <td>0.014</td>\n",
       "      <td>5742</td>\n",
       "      <td>No</td>\n",
       "    </tr>\n",
       "    <tr>\n",
       "      <th>62629</th>\n",
       "      <td>1655130051</td>\n",
       "      <td>19.299</td>\n",
       "      <td>16.52</td>\n",
       "      <td>643.0</td>\n",
       "      <td>400.0</td>\n",
       "      <td>13696.0</td>\n",
       "      <td>20543</td>\n",
       "      <td>936.676</td>\n",
       "      <td>0.57</td>\n",
       "      <td>0.59</td>\n",
       "      <td>3.90</td>\n",
       "      <td>0.607</td>\n",
       "      <td>0.014</td>\n",
       "      <td>5743</td>\n",
       "      <td>No</td>\n",
       "    </tr>\n",
       "  </tbody>\n",
       "</table>\n",
       "<p>62630 rows × 15 columns</p>\n",
       "</div>"
      ],
      "text/plain": [
       "              UTC  Temperature[C]  Humidity[%]  TVOC[ppb]  eCO2[ppm]   Raw H2  \\\n",
       "0      1654733331          20.000        57.36        0.0      400.0  12306.0   \n",
       "1      1654733332          20.015        56.67        0.0      400.0  12345.0   \n",
       "2      1654733333          20.029        55.96        0.0      400.0  12374.0   \n",
       "3      1654733334          20.044        55.28        0.0      400.0  12390.0   \n",
       "4      1654733335          20.059        54.69        0.0      400.0  12403.0   \n",
       "...           ...             ...          ...        ...        ...      ...   \n",
       "62625  1655130047          18.438        15.79      625.0      400.0  13723.0   \n",
       "62626  1655130048          18.653        15.87      612.0      400.0  13731.0   \n",
       "62627  1655130049          18.867        15.84      627.0      400.0  13725.0   \n",
       "62628  1655130050          19.083        16.04      638.0      400.0  13712.0   \n",
       "62629  1655130051          19.299        16.52      643.0      400.0  13696.0   \n",
       "\n",
       "       Raw Ethanol  Pressure[hPa]  PM1.0  PM2.5  NC0.5  NC1.0  NC2.5   CNT  \\\n",
       "0            18520        939.735   0.00   0.00   0.00  0.000  0.000     0   \n",
       "1            18651        939.744   0.00   0.00   0.00  0.000  0.000     1   \n",
       "2            18764        939.738   0.00   0.00   0.00  0.000  0.000     2   \n",
       "3            18849        939.736   0.00   0.00   0.00  0.000  0.000     3   \n",
       "4            18921        939.744   0.00   0.00   0.00  0.000  0.000     4   \n",
       "...            ...            ...    ...    ...    ...    ...    ...   ...   \n",
       "62625        20569        936.670   0.63   0.65   4.32  0.673  0.015  5739   \n",
       "62626        20588        936.678   0.61   0.63   4.18  0.652  0.015  5740   \n",
       "62627        20582        936.687   0.57   0.60   3.95  0.617  0.014  5741   \n",
       "62628        20566        936.680   0.57   0.59   3.92  0.611  0.014  5742   \n",
       "62629        20543        936.676   0.57   0.59   3.90  0.607  0.014  5743   \n",
       "\n",
       "      Fire Alarm  \n",
       "0             No  \n",
       "1             No  \n",
       "2             No  \n",
       "3             No  \n",
       "4             No  \n",
       "...          ...  \n",
       "62625         No  \n",
       "62626         No  \n",
       "62627         No  \n",
       "62628         No  \n",
       "62629         No  \n",
       "\n",
       "[62630 rows x 15 columns]"
      ]
     },
     "execution_count": 17,
     "metadata": {},
     "output_type": "execute_result"
    }
   ],
   "source": [
    "# ваше решение\n",
    "import pandas as pd\n",
    "import numpy as np\n",
    "from sklearn.preprocessing import StandardScaler\n",
    "from sklearn.model_selection import train_test_split\n",
    "from sklearn.metrics import precision_score, recall_score, f1_score, roc_auc_score\n",
    "\n",
    "\n",
    "df = pd.read_csv('smoke_detector_task.csv')\n",
    "df = df.drop(columns = ['Unnamed: 0'])\n",
    "df"
   ]
  },
  {
   "cell_type": "code",
   "execution_count": 18,
   "id": "75b41eaf",
   "metadata": {},
   "outputs": [],
   "source": [
    "columns_to_repair = ['Temperature[C]', 'Humidity[%]', 'TVOC[ppb]', 'eCO2[ppm]', 'Raw H2', 'Pressure[hPa]', 'PM2.5', 'NC1.0']\n",
    "for i in columns_to_repair:\n",
    "    df.loc[df[i].isna(), i] = df[i].mean()\n"
   ]
  },
  {
   "cell_type": "code",
   "execution_count": 19,
   "id": "86551e8f",
   "metadata": {},
   "outputs": [],
   "source": [
    "X = df.drop(columns = ['Fire Alarm'])\n",
    "y = df['Fire Alarm']\n",
    "X_train, X_test, y_train, y_test = train_test_split(X, y, test_size = 0.3)"
   ]
  },
  {
   "cell_type": "code",
   "execution_count": 20,
   "id": "05c3b248",
   "metadata": {},
   "outputs": [],
   "source": [
    "# from sklearn.preprocessing import StandardScaler\n",
    "# scaler = StandardScaler()\n",
    "# X_train = scaler.fit_transform(X_train)\n",
    "# X_train"
   ]
  },
  {
   "cell_type": "code",
   "execution_count": 21,
   "id": "0c0cfccb",
   "metadata": {},
   "outputs": [
    {
     "name": "stdout",
     "output_type": "stream",
     "text": [
      "              precision    recall  f1-score   support\n",
      "\n",
      "          No       1.00      1.00      1.00      5325\n",
      "         Yes       1.00      1.00      1.00     13464\n",
      "\n",
      "    accuracy                           1.00     18789\n",
      "   macro avg       1.00      1.00      1.00     18789\n",
      "weighted avg       1.00      1.00      1.00     18789\n",
      "\n"
     ]
    }
   ],
   "source": [
    "from sklearn.neighbors import KNeighborsClassifier\n",
    "from sklearn.metrics import classification_report\n",
    "\n",
    "knn = KNeighborsClassifier(n_neighbors = 11)\n",
    "knn.fit(X_train, y_train)\n",
    "y_pred = knn.predict(X_test)\n",
    "print(classification_report(y_pred, y_test))"
   ]
  },
  {
   "cell_type": "code",
   "execution_count": 36,
   "id": "51bbd79b",
   "metadata": {},
   "outputs": [
    {
     "data": {
      "text/plain": [
       "[2, 5, 8, 11, 14, 17, 20, 23, 26, 29]"
      ]
     },
     "execution_count": 36,
     "metadata": {},
     "output_type": "execute_result"
    }
   ],
   "source": [
    "[i for i in range(2, 31 , 3)]"
   ]
  },
  {
   "cell_type": "code",
   "execution_count": 22,
   "id": "89517d4f",
   "metadata": {},
   "outputs": [
    {
     "name": "stdout",
     "output_type": "stream",
     "text": [
      "              precision    recall  f1-score   support\n",
      "\n",
      "          No       0.88      0.46      0.61      5334\n",
      "         Yes       0.82      0.98      0.89     13455\n",
      "\n",
      "    accuracy                           0.83     18789\n",
      "   macro avg       0.85      0.72      0.75     18789\n",
      "weighted avg       0.84      0.83      0.81     18789\n",
      "\n"
     ]
    }
   ],
   "source": [
    "from sklearn.naive_bayes import GaussianNB\n",
    "from sklearn.metrics import classification_report\n",
    "\n",
    "\n",
    "gnb = GaussianNB()\n",
    "gnb.fit(X_train, y_train)\n",
    "y_pred = gnb.predict(X_test)\n",
    "print(classification_report(y_test, y_pred))"
   ]
  },
  {
   "cell_type": "code",
   "execution_count": 23,
   "id": "cad27182",
   "metadata": {},
   "outputs": [
    {
     "name": "stderr",
     "output_type": "stream",
     "text": [
      "d:\\ml\\venv\\lib\\site-packages\\sklearn\\svm\\_base.py:299: ConvergenceWarning: Solver terminated early (max_iter=100).  Consider pre-processing your data with StandardScaler or MinMaxScaler.\n",
      "  warnings.warn(\n"
     ]
    },
    {
     "name": "stdout",
     "output_type": "stream",
     "text": [
      "              precision    recall  f1-score   support\n",
      "\n",
      "          No       1.00      0.33      0.50      5334\n",
      "         Yes       0.79      1.00      0.88     13455\n",
      "\n",
      "    accuracy                           0.81     18789\n",
      "   macro avg       0.90      0.67      0.69     18789\n",
      "weighted avg       0.85      0.81      0.77     18789\n",
      "\n"
     ]
    }
   ],
   "source": [
    "from sklearn import svm\n",
    "from sklearn.metrics import classification_report\n",
    "\n",
    "\n",
    "clf = svm.SVC(max_iter=100)\n",
    "clf.fit(X_train, y_train)\n",
    "y_pred = clf.predict(X_test)\n",
    "print(classification_report(y_test, y_pred))"
   ]
  },
  {
   "cell_type": "code",
   "execution_count": 24,
   "id": "2aa9f278",
   "metadata": {},
   "outputs": [
    {
     "data": {
      "text/plain": [
       "[0.2853744212038959, 0.7146255787961041]"
      ]
     },
     "execution_count": 24,
     "metadata": {},
     "output_type": "execute_result"
    }
   ],
   "source": [
    "classes = np.unique(y)\n",
    "const = [0] * len(classes)\n",
    "\n",
    "# for i in range (len(classes)):\n",
    "#     const[i] = len(y == classes[i]) / len(y)\n",
    "         \n",
    "for i in range (len(classes)):\n",
    "    const[i] = len(y[y == classes[i]]) / len(y)\n",
    "\n",
    "const"
   ]
  },
  {
   "cell_type": "code",
   "execution_count": 25,
   "id": "c5d69862",
   "metadata": {},
   "outputs": [
    {
     "data": {
      "text/plain": [
       "[0.2853744212038959, 0.7146255787961041]"
      ]
     },
     "execution_count": 25,
     "metadata": {},
     "output_type": "execute_result"
    }
   ],
   "source": [
    "for i in range (len(classes)):\n",
    "    const[i] = len(y[y == classes[i]]) / len(y)\n",
    "const"
   ]
  },
  {
   "cell_type": "code",
   "execution_count": 26,
   "id": "d07c04aa",
   "metadata": {},
   "outputs": [
    {
     "name": "stdout",
     "output_type": "stream",
     "text": [
      "UTC\n",
      "Temperature[C]\n",
      "Humidity[%]\n",
      "TVOC[ppb]\n",
      "eCO2[ppm]\n",
      "Raw H2\n",
      "Raw Ethanol\n",
      "Pressure[hPa]\n",
      "PM1.0\n",
      "PM2.5\n",
      "NC0.5\n",
      "NC1.0\n",
      "NC2.5\n",
      "CNT\n"
     ]
    }
   ],
   "source": [
    "for i in X:\n",
    "    print(i)"
   ]
  },
  {
   "cell_type": "code",
   "execution_count": 27,
   "id": "f6732d25",
   "metadata": {},
   "outputs": [
    {
     "name": "stdout",
     "output_type": "stream",
     "text": [
      "5.892942427887081e-06\n",
      "0.0115240697367613\n",
      "0.026841456841018425\n",
      "0.0002858176960038739\n",
      "0.0001248091469403923\n",
      "0.0009515368327268505\n",
      "0.0005182117379458645\n",
      "0.1216354243791371\n",
      "0.00026954463495264323\n",
      "0.00010655904778281448\n",
      "7.420011344006682e-05\n",
      "9.423836261743574e-05\n",
      "0.00017779269957123226\n",
      "2.423416896888611e-05\n"
     ]
    }
   ],
   "source": [
    "for q in X:\n",
    "    print(1 / (2 * np.pi * X[q][y == 'Yes'].std()))"
   ]
  },
  {
   "cell_type": "code",
   "execution_count": 28,
   "id": "72d95a6f",
   "metadata": {},
   "outputs": [
    {
     "name": "stderr",
     "output_type": "stream",
     "text": [
      "d:\\ml\\venv\\lib\\site-packages\\sklearn\\metrics\\_classification.py:1344: UndefinedMetricWarning: Precision and F-score are ill-defined and being set to 0.0 in labels with no predicted samples. Use `zero_division` parameter to control this behavior.\n",
      "  _warn_prf(average, modifier, msg_start, len(result))\n"
     ]
    },
    {
     "name": "stdout",
     "output_type": "stream",
     "text": [
      "              precision    recall  f1-score   support\n",
      "\n",
      "          No       0.00      0.00      0.00      5334\n",
      "         Yes       0.72      1.00      0.83     13455\n",
      "\n",
      "    accuracy                           0.72     18789\n",
      "   macro avg       0.36      0.50      0.42     18789\n",
      "weighted avg       0.51      0.72      0.60     18789\n",
      "\n"
     ]
    },
    {
     "name": "stderr",
     "output_type": "stream",
     "text": [
      "d:\\ml\\venv\\lib\\site-packages\\sklearn\\metrics\\_classification.py:1344: UndefinedMetricWarning: Precision and F-score are ill-defined and being set to 0.0 in labels with no predicted samples. Use `zero_division` parameter to control this behavior.\n",
      "  _warn_prf(average, modifier, msg_start, len(result))\n",
      "d:\\ml\\venv\\lib\\site-packages\\sklearn\\metrics\\_classification.py:1344: UndefinedMetricWarning: Precision and F-score are ill-defined and being set to 0.0 in labels with no predicted samples. Use `zero_division` parameter to control this behavior.\n",
      "  _warn_prf(average, modifier, msg_start, len(result))\n"
     ]
    }
   ],
   "source": [
    "from sklearn import svm\n",
    "from sklearn.metrics import classification_report\n",
    "\n",
    "clf = svm.SVC()\n",
    "clf.fit(X_train, y_train)\n",
    "\n",
    "y_pred = clf.predict(X_test)\n",
    "y_pred = pd.Series(y_pred)\n",
    "print(classification_report(pd.Series(list(y_test)), y_pred))"
   ]
  },
  {
   "cell_type": "code",
   "execution_count": 29,
   "id": "f4eeff31",
   "metadata": {},
   "outputs": [
    {
     "data": {
      "text/plain": [
       "0        Yes\n",
       "1        Yes\n",
       "2        Yes\n",
       "3        Yes\n",
       "4        Yes\n",
       "        ... \n",
       "18784    Yes\n",
       "18785    Yes\n",
       "18786    Yes\n",
       "18787    Yes\n",
       "18788    Yes\n",
       "Length: 18789, dtype: object"
      ]
     },
     "execution_count": 29,
     "metadata": {},
     "output_type": "execute_result"
    }
   ],
   "source": [
    "y_pred"
   ]
  },
  {
   "cell_type": "code",
   "execution_count": 30,
   "id": "dc96a5d1",
   "metadata": {},
   "outputs": [
    {
     "data": {
      "text/plain": [
       "0        Yes\n",
       "1        Yes\n",
       "2        Yes\n",
       "3        Yes\n",
       "4         No\n",
       "        ... \n",
       "18784    Yes\n",
       "18785    Yes\n",
       "18786    Yes\n",
       "18787    Yes\n",
       "18788    Yes\n",
       "Length: 18789, dtype: object"
      ]
     },
     "execution_count": 30,
     "metadata": {},
     "output_type": "execute_result"
    }
   ],
   "source": [
    "pd.Series(list(y_test))"
   ]
  },
  {
   "cell_type": "code",
   "execution_count": 31,
   "id": "be7b3358",
   "metadata": {},
   "outputs": [
    {
     "name": "stdout",
     "output_type": "stream",
     "text": [
      "              precision    recall  f1-score   support\n",
      "\n",
      "          No       0.88      0.46      0.61      5334\n",
      "         Yes       0.82      0.98      0.89     13455\n",
      "\n",
      "    accuracy                           0.83     18789\n",
      "   macro avg       0.85      0.72      0.75     18789\n",
      "weighted avg       0.84      0.83      0.81     18789\n",
      "\n"
     ]
    }
   ],
   "source": [
    "# https://scikit-learn.org/stable/modules/naive_bayes.html\n",
    "from sklearn.naive_bayes import GaussianNB\n",
    "from sklearn.metrics import classification_report\n",
    "\n",
    "\n",
    "gnb = GaussianNB()\n",
    "gnb.fit(X_train, y_train)\n",
    "y_pred = gnb.predict(X_test)\n",
    "print(classification_report(y_test, y_pred))"
   ]
  },
  {
   "cell_type": "code",
   "execution_count": 32,
   "id": "5fcd87db",
   "metadata": {},
   "outputs": [
    {
     "data": {
      "text/plain": [
       "1  \n",
       "Yes    16018\n",
       "No      2771\n",
       "dtype: int64"
      ]
     },
     "execution_count": 32,
     "metadata": {},
     "output_type": "execute_result"
    }
   ],
   "source": [
    "pd.DataFrame({'1':y_pred}).value_counts()"
   ]
  },
  {
   "cell_type": "code",
   "execution_count": null,
   "id": "5b50670f",
   "metadata": {},
   "outputs": [],
   "source": [
    "\n",
    "\n",
    "\n",
    "\n",
    "\n",
    "\n",
    "\n",
    "\n",
    "\n",
    "\n",
    "\n",
    "\n",
    "\n",
    "\n",
    "\n",
    "\n",
    "\n",
    "\n",
    "\n",
    "\n",
    "\n",
    "\n",
    "\n",
    "\n",
    "\n",
    "\n",
    "\n",
    "\n",
    "\n",
    "\n",
    "\n",
    "\n",
    "\n",
    "\n",
    "\n",
    "\n",
    "\n",
    "\n",
    "\n",
    "\n"
   ]
  },
  {
   "cell_type": "code",
   "execution_count": null,
   "id": "d9ae0e2d",
   "metadata": {},
   "outputs": [],
   "source": []
  },
  {
   "cell_type": "code",
   "execution_count": null,
   "id": "47150397",
   "metadata": {},
   "outputs": [],
   "source": []
  },
  {
   "cell_type": "code",
   "execution_count": null,
   "id": "71c86429",
   "metadata": {},
   "outputs": [],
   "source": []
  },
  {
   "cell_type": "code",
   "execution_count": null,
   "id": "13270555",
   "metadata": {},
   "outputs": [],
   "source": []
  },
  {
   "cell_type": "code",
   "execution_count": null,
   "id": "b7989215",
   "metadata": {},
   "outputs": [],
   "source": []
  },
  {
   "cell_type": "code",
   "execution_count": null,
   "id": "1b671236",
   "metadata": {},
   "outputs": [],
   "source": []
  },
  {
   "cell_type": "code",
   "execution_count": 33,
   "id": "6e4849ab",
   "metadata": {},
   "outputs": [],
   "source": [
    "class NB:\n",
    "    def __init__(self):\n",
    "        self.classes = None\n",
    "        self.M = None\n",
    "        self.STD = None\n",
    "        \n",
    "    def fit(self, X, y):\n",
    "        self.classes = np.unique(y)\n",
    "        print(self.classes)\n",
    "        self.M = np.zeros((len(self.classes), X.shape[1]))\n",
    "        for i in range(len(self.classes)):\n",
    "            self.M[i] = np.mean(X[y==self.classes[i]], axis = 0)\n",
    "\n",
    "        self.STD = np.zeros((len(self.classes), X.shape[1]))\n",
    "        for i in range(len(self.classes)):\n",
    "            self.STD[i] = np.std(X[y==self.classes[i]], axis = 0)\n",
    "    \n",
    "    def predict(self, X):\n",
    "        prob = [0] * len(self.classes)\n",
    "        for i in range(len(prob)):\n",
    "            prob[i] = list((np.sum((-1)*(X - self.M[i])/self.STD[i], axis = 1)))\n",
    "            \n",
    "        return np.argmax(prob, axis = 0)\n",
    "    \n",
    "        "
   ]
  },
  {
   "cell_type": "code",
   "execution_count": 34,
   "id": "f4c89123",
   "metadata": {},
   "outputs": [
    {
     "name": "stdout",
     "output_type": "stream",
     "text": [
      "['No' 'Yes']\n"
     ]
    }
   ],
   "source": [
    "Test = NB()\n",
    "Test.fit(X_train, y_train)\n",
    "y_pred = list(Test.predict(X_test))\n",
    "for i in range(len(y_pred)):\n",
    "    if y_pred[i] == 0:\n",
    "        y_pred[i] = 'No'\n",
    "    if y_pred[i] == 1:\n",
    "        y_pred[i] = 'Yes'"
   ]
  }
 ],
 "metadata": {
  "kernelspec": {
   "display_name": "Python 3 (ipykernel)",
   "language": "python",
   "name": "python3"
  },
  "language_info": {
   "codemirror_mode": {
    "name": "ipython",
    "version": 3
   },
   "file_extension": ".py",
   "mimetype": "text/x-python",
   "name": "python",
   "nbconvert_exporter": "python",
   "pygments_lexer": "ipython3",
   "version": "3.9.13"
  }
 },
 "nbformat": 4,
 "nbformat_minor": 5
}
