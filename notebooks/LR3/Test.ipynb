{
 "cells": [
  {
   "cell_type": "code",
   "execution_count": 171,
   "metadata": {},
   "outputs": [
    {
     "data": {
      "text/plain": [
       "'UTC'"
      ]
     },
     "execution_count": 171,
     "metadata": {},
     "output_type": "execute_result"
    }
   ],
   "source": [
    "import pandas as pd\n",
    "import numpy as np\n",
    "s = pd.read_csv('c.csv')\n",
    "s = pd.concat([s[s['Fire Alarm'] == 'Yes'].head(6), s[s['Fire Alarm'] == 'No'].head(4)])\n",
    "sign = s.columns[0]\n",
    "l = s[s[sign] <= s[sign].mean()]\n",
    "r = s[s[sign] > s[sign].mean()]\n",
    "# a['Fire Alarm'].value_counts().sort_index().idxmax()\n",
    "sign"
   ]
  },
  {
   "cell_type": "code",
   "execution_count": 172,
   "metadata": {},
   "outputs": [
    {
     "data": {
      "text/html": [
       "<div>\n",
       "<style scoped>\n",
       "    .dataframe tbody tr th:only-of-type {\n",
       "        vertical-align: middle;\n",
       "    }\n",
       "\n",
       "    .dataframe tbody tr th {\n",
       "        vertical-align: top;\n",
       "    }\n",
       "\n",
       "    .dataframe thead th {\n",
       "        text-align: right;\n",
       "    }\n",
       "</style>\n",
       "<table border=\"1\" class=\"dataframe\">\n",
       "  <thead>\n",
       "    <tr style=\"text-align: right;\">\n",
       "      <th></th>\n",
       "      <th>UTC</th>\n",
       "      <th>Temperature[C]</th>\n",
       "      <th>Humidity[%]</th>\n",
       "      <th>TVOC[ppb]</th>\n",
       "      <th>eCO2[ppm]</th>\n",
       "      <th>Raw H2</th>\n",
       "      <th>Raw Ethanol</th>\n",
       "      <th>Pressure[hPa]</th>\n",
       "      <th>PM1.0</th>\n",
       "      <th>PM2.5</th>\n",
       "      <th>NC0.5</th>\n",
       "      <th>NC1.0</th>\n",
       "      <th>NC2.5</th>\n",
       "      <th>CNT</th>\n",
       "      <th>Fire Alarm</th>\n",
       "    </tr>\n",
       "  </thead>\n",
       "  <tbody>\n",
       "    <tr>\n",
       "      <th>3178</th>\n",
       "      <td>1654736509</td>\n",
       "      <td>9.381</td>\n",
       "      <td>56.86</td>\n",
       "      <td>11.0</td>\n",
       "      <td>400.0</td>\n",
       "      <td>13347.0</td>\n",
       "      <td>20160</td>\n",
       "      <td>939.575</td>\n",
       "      <td>1.78</td>\n",
       "      <td>1.85</td>\n",
       "      <td>12.25</td>\n",
       "      <td>1.911</td>\n",
       "      <td>0.043</td>\n",
       "      <td>3178</td>\n",
       "      <td>Yes</td>\n",
       "    </tr>\n",
       "    <tr>\n",
       "      <th>3179</th>\n",
       "      <td>1654736510</td>\n",
       "      <td>9.368</td>\n",
       "      <td>58.60</td>\n",
       "      <td>0.0</td>\n",
       "      <td>400.0</td>\n",
       "      <td>13385.0</td>\n",
       "      <td>20202</td>\n",
       "      <td>939.574</td>\n",
       "      <td>1.80</td>\n",
       "      <td>1.87</td>\n",
       "      <td>12.41</td>\n",
       "      <td>1.935</td>\n",
       "      <td>0.044</td>\n",
       "      <td>3179</td>\n",
       "      <td>Yes</td>\n",
       "    </tr>\n",
       "    <tr>\n",
       "      <th>3180</th>\n",
       "      <td>1654736511</td>\n",
       "      <td>9.356</td>\n",
       "      <td>60.38</td>\n",
       "      <td>0.0</td>\n",
       "      <td>400.0</td>\n",
       "      <td>13388.0</td>\n",
       "      <td>20248</td>\n",
       "      <td>938.858</td>\n",
       "      <td>1.94</td>\n",
       "      <td>2.01</td>\n",
       "      <td>13.32</td>\n",
       "      <td>2.077</td>\n",
       "      <td>0.047</td>\n",
       "      <td>3180</td>\n",
       "      <td>Yes</td>\n",
       "    </tr>\n",
       "    <tr>\n",
       "      <th>3181</th>\n",
       "      <td>1654736512</td>\n",
       "      <td>9.343</td>\n",
       "      <td>62.22</td>\n",
       "      <td>0.0</td>\n",
       "      <td>400.0</td>\n",
       "      <td>13443.0</td>\n",
       "      <td>20315</td>\n",
       "      <td>939.044</td>\n",
       "      <td>2.00</td>\n",
       "      <td>2.08</td>\n",
       "      <td>13.75</td>\n",
       "      <td>2.145</td>\n",
       "      <td>0.048</td>\n",
       "      <td>3181</td>\n",
       "      <td>Yes</td>\n",
       "    </tr>\n",
       "    <tr>\n",
       "      <th>3182</th>\n",
       "      <td>1654736513</td>\n",
       "      <td>9.331</td>\n",
       "      <td>63.11</td>\n",
       "      <td>0.0</td>\n",
       "      <td>400.0</td>\n",
       "      <td>13457.0</td>\n",
       "      <td>20348</td>\n",
       "      <td>939.193</td>\n",
       "      <td>2.07</td>\n",
       "      <td>2.15</td>\n",
       "      <td>14.24</td>\n",
       "      <td>2.220</td>\n",
       "      <td>0.050</td>\n",
       "      <td>3182</td>\n",
       "      <td>Yes</td>\n",
       "    </tr>\n",
       "    <tr>\n",
       "      <th>3183</th>\n",
       "      <td>1654736514</td>\n",
       "      <td>9.318</td>\n",
       "      <td>63.67</td>\n",
       "      <td>0.0</td>\n",
       "      <td>400.0</td>\n",
       "      <td>13464.0</td>\n",
       "      <td>20369</td>\n",
       "      <td>939.303</td>\n",
       "      <td>2.10</td>\n",
       "      <td>2.19</td>\n",
       "      <td>14.48</td>\n",
       "      <td>2.258</td>\n",
       "      <td>0.051</td>\n",
       "      <td>3183</td>\n",
       "      <td>Yes</td>\n",
       "    </tr>\n",
       "  </tbody>\n",
       "</table>\n",
       "</div>"
      ],
      "text/plain": [
       "             UTC  Temperature[C]  Humidity[%]  TVOC[ppb]  eCO2[ppm]   Raw H2  \\\n",
       "3178  1654736509           9.381        56.86       11.0      400.0  13347.0   \n",
       "3179  1654736510           9.368        58.60        0.0      400.0  13385.0   \n",
       "3180  1654736511           9.356        60.38        0.0      400.0  13388.0   \n",
       "3181  1654736512           9.343        62.22        0.0      400.0  13443.0   \n",
       "3182  1654736513           9.331        63.11        0.0      400.0  13457.0   \n",
       "3183  1654736514           9.318        63.67        0.0      400.0  13464.0   \n",
       "\n",
       "      Raw Ethanol  Pressure[hPa]  PM1.0  PM2.5  NC0.5  NC1.0  NC2.5   CNT  \\\n",
       "3178        20160        939.575   1.78   1.85  12.25  1.911  0.043  3178   \n",
       "3179        20202        939.574   1.80   1.87  12.41  1.935  0.044  3179   \n",
       "3180        20248        938.858   1.94   2.01  13.32  2.077  0.047  3180   \n",
       "3181        20315        939.044   2.00   2.08  13.75  2.145  0.048  3181   \n",
       "3182        20348        939.193   2.07   2.15  14.24  2.220  0.050  3182   \n",
       "3183        20369        939.303   2.10   2.19  14.48  2.258  0.051  3183   \n",
       "\n",
       "     Fire Alarm  \n",
       "3178        Yes  \n",
       "3179        Yes  \n",
       "3180        Yes  \n",
       "3181        Yes  \n",
       "3182        Yes  \n",
       "3183        Yes  "
      ]
     },
     "execution_count": 172,
     "metadata": {},
     "output_type": "execute_result"
    }
   ],
   "source": [
    "r"
   ]
  },
  {
   "cell_type": "code",
   "execution_count": 178,
   "metadata": {},
   "outputs": [
    {
     "data": {
      "text/plain": [
       "Yes    NaN\n",
       "No     4.0\n",
       "Name: Fire Alarm, dtype: float64"
      ]
     },
     "execution_count": 178,
     "metadata": {},
     "output_type": "execute_result"
    }
   ],
   "source": [
    "label_left = l['Fire Alarm'].value_counts(normalize=False).reindex(['Yes', 'No'])\n",
    "label_left"
   ]
  },
  {
   "cell_type": "code",
   "execution_count": 174,
   "metadata": {},
   "outputs": [
    {
     "data": {
      "text/plain": [
       "Yes    6\n",
       "Name: Fire Alarm, dtype: int64"
      ]
     },
     "execution_count": 174,
     "metadata": {},
     "output_type": "execute_result"
    }
   ],
   "source": [
    "label_right = r['Fire Alarm'].value_counts().sort_index()\n",
    "label_right"
   ]
  },
  {
   "cell_type": "code",
   "execution_count": 175,
   "metadata": {},
   "outputs": [
    {
     "ename": "AttributeError",
     "evalue": "'str' object has no attribute 'columns'",
     "output_type": "error",
     "traceback": [
      "\u001b[1;31m---------------------------------------------------------------------------\u001b[0m",
      "\u001b[1;31mAttributeError\u001b[0m                            Traceback (most recent call last)",
      "Cell \u001b[1;32mIn[175], line 1\u001b[0m\n\u001b[1;32m----> 1\u001b[0m a[a\u001b[39m.\u001b[39;49mcolumns[\u001b[39m1\u001b[39m]]\u001b[39m.\u001b[39mmean()\n",
      "\u001b[1;31mAttributeError\u001b[0m: 'str' object has no attribute 'columns'"
     ]
    }
   ],
   "source": [
    "a[a.columns[1]].mean()"
   ]
  },
  {
   "cell_type": "code",
   "execution_count": null,
   "metadata": {},
   "outputs": [
    {
     "name": "stdout",
     "output_type": "stream",
     "text": [
      "[[[[[['Left', 'Right'], 'l+l'], [['Left', 'Right'], 'l+r']], 'l'], [['Left', 'Right'], 'r']], 4, 5, 6]\n"
     ]
    }
   ],
   "source": [
    "root = [['Left', 'Right'], 4, 5 ,6]\n",
    "left_node = [['Left', 'Right'], 'l']\n",
    "right_node = [['Left', 'Right'], 'r']\n",
    "root [0][0] = left_node\n",
    "root [0][1] = right_node\n",
    "left_node_for_left_node = [['Left', 'Right'], 'l+l']\n",
    "right_node_for_left_node = [['Left', 'Right'], 'l+r']\n",
    "left_node[0][0] = left_node_for_left_node\n",
    "left_node[0][1] = right_node_for_left_node\n",
    "print(root)\n",
    "# left_node = left_node"
   ]
  },
  {
   "cell_type": "code",
   "execution_count": null,
   "metadata": {},
   "outputs": [],
   "source": [
    "root = {\n",
    "    'children' : [None, None],\n",
    "    'label' : 1\n",
    "}\n",
    "left = {\n",
    "    'children' : [None, None],\n",
    "    'label': 2\n",
    "}\n",
    "right = {\n",
    "    'children' : [None, None],\n",
    "    'label': 3\n",
    "}\n",
    "root['children'][0] = left\n",
    "root['children'][1] = right\n"
   ]
  },
  {
   "cell_type": "code",
   "execution_count": null,
   "metadata": {},
   "outputs": [
    {
     "name": "stdout",
     "output_type": "stream",
     "text": [
      "1 [{'label': 1, 'children': [None, None]}]\n",
      "1 [{'label': 2, 'children': [None, None]}, {'label': 3, 'children': [None, None]}]\n",
      "2 [{'label': 2, 'children': [None, None]}, {'label': 3, 'children': [None, None]}]\n",
      "2 [{'label': 3, 'children': [None, None]}, {'label': 4, 'children': [None, None]}, {'label': 5, 'children': [None, None]}]\n",
      "3 [{'label': 3, 'children': [None, None]}, {'label': 4, 'children': [None, None]}, {'label': 5, 'children': [None, None]}]\n",
      "3 [{'label': 4, 'children': [None, None]}, {'label': 5, 'children': [None, None]}, {'label': 6, 'children': [None, None]}, {'label': 7, 'children': [None, None]}]\n"
     ]
    }
   ],
   "source": [
    "\n",
    "depth = 2\n",
    "root = {'label': 1, 'children': [None, None]}\n",
    "\n",
    "queue = [root] # Инициализируем очередь для обхода узлов\n",
    "\n",
    "q = 0\n",
    "\n",
    "for d in range(depth): # Создаем цикл для создания новых узлов на каждой глубине\n",
    "\n",
    "    size = len(queue) # Запомниаем количество узлов на текущей глубине\n",
    "\n",
    "    for i in range(size): # Проходим по всем узлам на текущей глубине\n",
    "        q+=1\n",
    "        print (q, queue)\n",
    "        node = queue.pop(0) # Берем первый узел из очереди\n",
    "\n",
    "        left = {'label': node['label'] * 2, 'children': [None, None]} # Создаем левый дочерний узел\n",
    "        right = {'label': node['label'] * 2 + 1, 'children': [None, None]} # Создаем правый дочерний узел\n",
    "\n",
    "        node['children'][0] = left # Связываем ссылку на левый дочерний узел\n",
    "        node['children'][1] = right # Связываем ссылку на правый дочерний узел\n",
    "\n",
    "        queue.append(left) # Добавляем левый дочерний узел в очередь\n",
    "        queue.append(right) # Добавляем правый дочерний узел в очередь\n",
    "        print(q, queue)\n",
    "\n",
    "# root\n"
   ]
  },
  {
   "cell_type": "code",
   "execution_count": null,
   "metadata": {},
   "outputs": [
    {
     "data": {
      "text/plain": [
       "('Root', ['L', 'R'])"
      ]
     },
     "execution_count": 165,
     "metadata": {},
     "output_type": "execute_result"
    }
   ],
   "source": [
    "spisok = ['Root', 'L', 'R']\n",
    "a = spisok.pop(0)\n",
    "a, spisok"
   ]
  },
  {
   "cell_type": "code",
   "execution_count": null,
   "metadata": {},
   "outputs": [
    {
     "name": "stdout",
     "output_type": "stream",
     "text": [
      "Yes\n"
     ]
    },
    {
     "name": "stderr",
     "output_type": "stream",
     "text": [
      "<>:1: SyntaxWarning: \"is not\" with a literal. Did you mean \"!=\"?\n",
      "<>:1: SyntaxWarning: \"is not\" with a literal. Did you mean \"!=\"?\n",
      "C:\\Users\\Алексей\\AppData\\Local\\Temp\\ipykernel_604\\1112313284.py:1: SyntaxWarning: \"is not\" with a literal. Did you mean \"!=\"?\n",
      "  if 1 is not 0:\n"
     ]
    }
   ],
   "source": [
    "if 1 is not 0: \n",
    "    print('Yes')"
   ]
  },
  {
   "cell_type": "code",
   "execution_count": null,
   "metadata": {},
   "outputs": [
    {
     "data": {
      "text/plain": [
       "0    1\n",
       "1    1\n",
       "2    0\n",
       "3    0\n",
       "4    0\n",
       "5    0\n",
       "Name: Result, dtype: int64"
      ]
     },
     "execution_count": 170,
     "metadata": {},
     "output_type": "execute_result"
    }
   ],
   "source": [
    "s = pd.DataFrame({'Result': [1,'R',3,4,'L',6], 'Width' : [34, 36, 38, 32, 12,34]})\n",
    "s['Result'].apply(lambda x: 1 if x<3 else 0)"
   ]
  },
  {
   "cell_type": "code",
   "execution_count": null,
   "metadata": {},
   "outputs": [],
   "source": [
    "with open('knn_model.pkl','rb') as file:\n",
    "                    model = pickle.load(file)\n",
    "                    predictions = model.predict(data)"
   ]
  }
 ],
 "metadata": {
  "kernelspec": {
   "display_name": "venv",
   "language": "python",
   "name": "python3"
  },
  "language_info": {
   "codemirror_mode": {
    "name": "ipython",
    "version": 3
   },
   "file_extension": ".py",
   "mimetype": "text/x-python",
   "name": "python",
   "nbconvert_exporter": "python",
   "pygments_lexer": "ipython3",
   "version": "3.9.13"
  },
  "orig_nbformat": 4
 },
 "nbformat": 4,
 "nbformat_minor": 2
}
