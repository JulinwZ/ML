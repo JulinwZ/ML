{
 "cells": [
  {
   "cell_type": "markdown",
   "id": "43dfc1f0",
   "metadata": {
    "id": "43dfc1f0"
   },
   "source": [
    "# Лабораторная работа 1. Введение в машинное обучение. Обучение с учителем. Задача регрессии"
   ]
  },
  {
   "cell_type": "markdown",
   "id": "af0b0580",
   "metadata": {
    "id": "af0b0580"
   },
   "source": [
    "<b>Традиционное предупреждение для всех лабораторных работ:</b> перед обучением моделей необходимо выполнить предварительную обработку данных, которая <b>обязательно</b> включает в себя:\n",
    "- заполнение пропущенных значений (рекомедуется логика заполнения пропусков на основе типа данных, которая использовалась в РГР по Практикуму);\n",
    "- преобразование категориальных признаков в числовые (используйте one-hot кодирование или map; используйте знания с Практикума)."
   ]
  },
  {
   "cell_type": "markdown",
   "id": "b08d9e23",
   "metadata": {
    "id": "b08d9e23"
   },
   "source": [
    "Предобработка может включать в себя другие действия, но выполнение описанных выше действий обязательно."
   ]
  },
  {
   "cell_type": "markdown",
   "id": "05aab9d1",
   "metadata": {
    "id": "05aab9d1"
   },
   "source": [
    "Сделайте это один раз и сохраните в отдельный csv файл, а потом его используйте."
   ]
  },
  {
   "cell_type": "markdown",
   "id": "e053af5b",
   "metadata": {
    "id": "e053af5b"
   },
   "source": [
    "<b>Выполните следующие задания:</b>\n",
    "- загрузите датасет для регрессии, выделите целевой признак и предикторы, разбейте данные на обучающую и тестовую выборку;\n",
    "- решите задачу регрессии на ваших данных с использованием моделей sklearn (линейная регрессия + L1, L2), для моделей с регуляризациями подберите гиперпараметр;\n",
    "- решите задачу регрессии на ваших данных с использованием моделей sklearn (полиномиальная регрессия + L1, L2), для моделей с регуляризациями подберите гиперпараметр;\n",
    "- вычислите значения метрик $R^2$, MAE, MSE, RMSE, MAPE для всех обученных моделей; выберите лучшую модель;\n",
    "- самостоятельно реализуйте (желательно в виде класса) модель линейной регрессии с регуляризацией (можете выбрать L1 или L2);\n",
    "- самостоятельно реализуйте вычисление всех используемых метрик (в виде функций, принимающих два аргумента);\n",
    "- обучите вашу модель линейной регрессии на ваших данных; оцените качество с помощью реализованных вами метрик."
   ]
  },
  {
   "cell_type": "markdown",
   "id": "Y8bcTnn53inx",
   "metadata": {
    "id": "Y8bcTnn53inx"
   },
   "source": [
    "# Линейная регрессия, регуляризация, гиперпараметр, полиномиальная регрессия"
   ]
  },
  {
   "cell_type": "code",
   "execution_count": 176,
   "id": "f500beec",
   "metadata": {
    "colab": {
     "base_uri": "https://localhost:8080/",
     "height": 485
    },
    "id": "f500beec",
    "outputId": "4d488174-dcaf-4db5-8690-759fab5b76db"
   },
   "outputs": [
    {
     "data": {
      "text/html": [
       "<div>\n",
       "<style scoped>\n",
       "    .dataframe tbody tr th:only-of-type {\n",
       "        vertical-align: middle;\n",
       "    }\n",
       "\n",
       "    .dataframe tbody tr th {\n",
       "        vertical-align: top;\n",
       "    }\n",
       "\n",
       "    .dataframe thead th {\n",
       "        text-align: right;\n",
       "    }\n",
       "</style>\n",
       "<table border=\"1\" class=\"dataframe\">\n",
       "  <thead>\n",
       "    <tr style=\"text-align: right;\">\n",
       "      <th></th>\n",
       "      <th>price</th>\n",
       "      <th>area</th>\n",
       "      <th>latitude</th>\n",
       "      <th>longitude</th>\n",
       "      <th>Bedrooms</th>\n",
       "      <th>Bathrooms</th>\n",
       "      <th>Balcony</th>\n",
       "      <th>parking</th>\n",
       "      <th>Lift</th>\n",
       "      <th>Ready to Move</th>\n",
       "      <th>Under Construction</th>\n",
       "      <th>New Property</th>\n",
       "      <th>Resale</th>\n",
       "      <th>Furnished</th>\n",
       "      <th>Semi-Furnished</th>\n",
       "      <th>Unfurnished</th>\n",
       "      <th>Flat</th>\n",
       "      <th>Individual House</th>\n",
       "    </tr>\n",
       "  </thead>\n",
       "  <tbody>\n",
       "    <tr>\n",
       "      <th>0</th>\n",
       "      <td>22400000.0</td>\n",
       "      <td>629.0</td>\n",
       "      <td>19.032800</td>\n",
       "      <td>72.896357</td>\n",
       "      <td>2.0</td>\n",
       "      <td>2.0</td>\n",
       "      <td>0.0</td>\n",
       "      <td>0.0</td>\n",
       "      <td>0.0</td>\n",
       "      <td>0</td>\n",
       "      <td>1</td>\n",
       "      <td>1</td>\n",
       "      <td>0</td>\n",
       "      <td>0</td>\n",
       "      <td>0</td>\n",
       "      <td>1</td>\n",
       "      <td>1</td>\n",
       "      <td>0</td>\n",
       "    </tr>\n",
       "    <tr>\n",
       "      <th>1</th>\n",
       "      <td>35000000.0</td>\n",
       "      <td>974.0</td>\n",
       "      <td>19.032800</td>\n",
       "      <td>72.896357</td>\n",
       "      <td>3.0</td>\n",
       "      <td>2.0</td>\n",
       "      <td>0.0</td>\n",
       "      <td>0.0</td>\n",
       "      <td>0.0</td>\n",
       "      <td>0</td>\n",
       "      <td>1</td>\n",
       "      <td>1</td>\n",
       "      <td>0</td>\n",
       "      <td>0</td>\n",
       "      <td>0</td>\n",
       "      <td>1</td>\n",
       "      <td>1</td>\n",
       "      <td>0</td>\n",
       "    </tr>\n",
       "    <tr>\n",
       "      <th>2</th>\n",
       "      <td>31700000.0</td>\n",
       "      <td>968.0</td>\n",
       "      <td>19.085600</td>\n",
       "      <td>72.909277</td>\n",
       "      <td>3.0</td>\n",
       "      <td>3.0</td>\n",
       "      <td>0.0</td>\n",
       "      <td>0.0</td>\n",
       "      <td>0.0</td>\n",
       "      <td>0</td>\n",
       "      <td>1</td>\n",
       "      <td>1</td>\n",
       "      <td>0</td>\n",
       "      <td>0</td>\n",
       "      <td>0</td>\n",
       "      <td>1</td>\n",
       "      <td>1</td>\n",
       "      <td>0</td>\n",
       "    </tr>\n",
       "    <tr>\n",
       "      <th>3</th>\n",
       "      <td>18700000.0</td>\n",
       "      <td>629.0</td>\n",
       "      <td>19.155756</td>\n",
       "      <td>72.846862</td>\n",
       "      <td>2.0</td>\n",
       "      <td>2.0</td>\n",
       "      <td>2.0</td>\n",
       "      <td>2.0</td>\n",
       "      <td>2.0</td>\n",
       "      <td>1</td>\n",
       "      <td>0</td>\n",
       "      <td>1</td>\n",
       "      <td>0</td>\n",
       "      <td>0</td>\n",
       "      <td>0</td>\n",
       "      <td>1</td>\n",
       "      <td>1</td>\n",
       "      <td>0</td>\n",
       "    </tr>\n",
       "    <tr>\n",
       "      <th>4</th>\n",
       "      <td>13500000.0</td>\n",
       "      <td>1090.0</td>\n",
       "      <td>19.177555</td>\n",
       "      <td>72.849887</td>\n",
       "      <td>2.0</td>\n",
       "      <td>2.0</td>\n",
       "      <td>0.0</td>\n",
       "      <td>0.0</td>\n",
       "      <td>0.0</td>\n",
       "      <td>1</td>\n",
       "      <td>0</td>\n",
       "      <td>1</td>\n",
       "      <td>0</td>\n",
       "      <td>0</td>\n",
       "      <td>0</td>\n",
       "      <td>1</td>\n",
       "      <td>1</td>\n",
       "      <td>0</td>\n",
       "    </tr>\n",
       "    <tr>\n",
       "      <th>...</th>\n",
       "      <td>...</td>\n",
       "      <td>...</td>\n",
       "      <td>...</td>\n",
       "      <td>...</td>\n",
       "      <td>...</td>\n",
       "      <td>...</td>\n",
       "      <td>...</td>\n",
       "      <td>...</td>\n",
       "      <td>...</td>\n",
       "      <td>...</td>\n",
       "      <td>...</td>\n",
       "      <td>...</td>\n",
       "      <td>...</td>\n",
       "      <td>...</td>\n",
       "      <td>...</td>\n",
       "      <td>...</td>\n",
       "      <td>...</td>\n",
       "      <td>...</td>\n",
       "    </tr>\n",
       "    <tr>\n",
       "      <th>6250</th>\n",
       "      <td>19500000.0</td>\n",
       "      <td>810.0</td>\n",
       "      <td>19.138320</td>\n",
       "      <td>72.810020</td>\n",
       "      <td>2.0</td>\n",
       "      <td>2.0</td>\n",
       "      <td>0.0</td>\n",
       "      <td>0.0</td>\n",
       "      <td>0.0</td>\n",
       "      <td>1</td>\n",
       "      <td>0</td>\n",
       "      <td>0</td>\n",
       "      <td>1</td>\n",
       "      <td>0</td>\n",
       "      <td>1</td>\n",
       "      <td>0</td>\n",
       "      <td>1</td>\n",
       "      <td>0</td>\n",
       "    </tr>\n",
       "    <tr>\n",
       "      <th>6251</th>\n",
       "      <td>22000000.0</td>\n",
       "      <td>1400.0</td>\n",
       "      <td>19.221920</td>\n",
       "      <td>72.854250</td>\n",
       "      <td>3.0</td>\n",
       "      <td>3.0</td>\n",
       "      <td>1.0</td>\n",
       "      <td>1.0</td>\n",
       "      <td>1.0</td>\n",
       "      <td>1</td>\n",
       "      <td>0</td>\n",
       "      <td>0</td>\n",
       "      <td>1</td>\n",
       "      <td>0</td>\n",
       "      <td>0</td>\n",
       "      <td>1</td>\n",
       "      <td>1</td>\n",
       "      <td>0</td>\n",
       "    </tr>\n",
       "    <tr>\n",
       "      <th>6252</th>\n",
       "      <td>20000000.0</td>\n",
       "      <td>750.0</td>\n",
       "      <td>19.144320</td>\n",
       "      <td>72.824111</td>\n",
       "      <td>2.0</td>\n",
       "      <td>2.0</td>\n",
       "      <td>0.0</td>\n",
       "      <td>0.0</td>\n",
       "      <td>0.0</td>\n",
       "      <td>1</td>\n",
       "      <td>0</td>\n",
       "      <td>0</td>\n",
       "      <td>1</td>\n",
       "      <td>0</td>\n",
       "      <td>0</td>\n",
       "      <td>1</td>\n",
       "      <td>1</td>\n",
       "      <td>0</td>\n",
       "    </tr>\n",
       "    <tr>\n",
       "      <th>6253</th>\n",
       "      <td>11000000.0</td>\n",
       "      <td>700.0</td>\n",
       "      <td>19.047201</td>\n",
       "      <td>72.872225</td>\n",
       "      <td>2.0</td>\n",
       "      <td>2.0</td>\n",
       "      <td>0.0</td>\n",
       "      <td>0.0</td>\n",
       "      <td>0.0</td>\n",
       "      <td>1</td>\n",
       "      <td>0</td>\n",
       "      <td>0</td>\n",
       "      <td>1</td>\n",
       "      <td>1</td>\n",
       "      <td>0</td>\n",
       "      <td>0</td>\n",
       "      <td>1</td>\n",
       "      <td>0</td>\n",
       "    </tr>\n",
       "    <tr>\n",
       "      <th>6254</th>\n",
       "      <td>15000000.0</td>\n",
       "      <td>900.0</td>\n",
       "      <td>19.168818</td>\n",
       "      <td>72.936375</td>\n",
       "      <td>2.0</td>\n",
       "      <td>2.0</td>\n",
       "      <td>0.0</td>\n",
       "      <td>0.0</td>\n",
       "      <td>0.0</td>\n",
       "      <td>1</td>\n",
       "      <td>0</td>\n",
       "      <td>0</td>\n",
       "      <td>1</td>\n",
       "      <td>0</td>\n",
       "      <td>0</td>\n",
       "      <td>1</td>\n",
       "      <td>1</td>\n",
       "      <td>0</td>\n",
       "    </tr>\n",
       "  </tbody>\n",
       "</table>\n",
       "<p>6255 rows × 18 columns</p>\n",
       "</div>"
      ],
      "text/plain": [
       "           price    area   latitude  longitude  Bedrooms  Bathrooms  Balcony  \\\n",
       "0     22400000.0   629.0  19.032800  72.896357       2.0        2.0      0.0   \n",
       "1     35000000.0   974.0  19.032800  72.896357       3.0        2.0      0.0   \n",
       "2     31700000.0   968.0  19.085600  72.909277       3.0        3.0      0.0   \n",
       "3     18700000.0   629.0  19.155756  72.846862       2.0        2.0      2.0   \n",
       "4     13500000.0  1090.0  19.177555  72.849887       2.0        2.0      0.0   \n",
       "...          ...     ...        ...        ...       ...        ...      ...   \n",
       "6250  19500000.0   810.0  19.138320  72.810020       2.0        2.0      0.0   \n",
       "6251  22000000.0  1400.0  19.221920  72.854250       3.0        3.0      1.0   \n",
       "6252  20000000.0   750.0  19.144320  72.824111       2.0        2.0      0.0   \n",
       "6253  11000000.0   700.0  19.047201  72.872225       2.0        2.0      0.0   \n",
       "6254  15000000.0   900.0  19.168818  72.936375       2.0        2.0      0.0   \n",
       "\n",
       "      parking  Lift  Ready to Move  Under Construction  New Property  Resale  \\\n",
       "0         0.0   0.0              0                   1             1       0   \n",
       "1         0.0   0.0              0                   1             1       0   \n",
       "2         0.0   0.0              0                   1             1       0   \n",
       "3         2.0   2.0              1                   0             1       0   \n",
       "4         0.0   0.0              1                   0             1       0   \n",
       "...       ...   ...            ...                 ...           ...     ...   \n",
       "6250      0.0   0.0              1                   0             0       1   \n",
       "6251      1.0   1.0              1                   0             0       1   \n",
       "6252      0.0   0.0              1                   0             0       1   \n",
       "6253      0.0   0.0              1                   0             0       1   \n",
       "6254      0.0   0.0              1                   0             0       1   \n",
       "\n",
       "      Furnished  Semi-Furnished  Unfurnished  Flat  Individual House  \n",
       "0             0               0            1     1                 0  \n",
       "1             0               0            1     1                 0  \n",
       "2             0               0            1     1                 0  \n",
       "3             0               0            1     1                 0  \n",
       "4             0               0            1     1                 0  \n",
       "...         ...             ...          ...   ...               ...  \n",
       "6250          0               1            0     1                 0  \n",
       "6251          0               0            1     1                 0  \n",
       "6252          0               0            1     1                 0  \n",
       "6253          1               0            0     1                 0  \n",
       "6254          0               0            1     1                 0  \n",
       "\n",
       "[6255 rows x 18 columns]"
      ]
     },
     "execution_count": 176,
     "metadata": {},
     "output_type": "execute_result"
    }
   ],
   "source": [
    "import pandas as pd\n",
    "from sklearn.pipeline import make_pipeline\n",
    "from sklearn.model_selection import train_test_split\n",
    "from sklearn.linear_model import LinearRegression, Lasso, Ridge\n",
    "from sklearn.metrics import mean_squared_error, mean_absolute_error, mean_absolute_percentage_error\n",
    "from math import sqrt\n",
    "from sklearn.model_selection import GridSearchCV, RandomizedSearchCV\n",
    "import numpy as np\n",
    "from sklearn.preprocessing import PolynomialFeatures\n",
    "import matplotlib.pyplot as plt\n",
    "\n",
    "data = pd.read_csv('result.csv', sep = ',')\n",
    "data = data.drop(columns = ['Unnamed: 0'])\n",
    "data"
   ]
  },
  {
   "cell_type": "code",
   "execution_count": 377,
   "id": "d08e5dac",
   "metadata": {
    "id": "d08e5dac"
   },
   "outputs": [],
   "source": [
    "y = data['price']\n",
    "X = data.drop(['price'], axis = 1)"
   ]
  },
  {
   "cell_type": "code",
   "execution_count": 213,
   "id": "d1946192",
   "metadata": {
    "colab": {
     "base_uri": "https://localhost:8080/"
    },
    "id": "d1946192",
    "outputId": "2ac1a9c9-400a-4e34-da1c-59404ba030b9"
   },
   "outputs": [
    {
     "data": {
      "text/plain": [
       "0       22400000.0\n",
       "1       35000000.0\n",
       "2       31700000.0\n",
       "3       18700000.0\n",
       "4       13500000.0\n",
       "           ...    \n",
       "6250    19500000.0\n",
       "6251    22000000.0\n",
       "6252    20000000.0\n",
       "6253    11000000.0\n",
       "6254    15000000.0\n",
       "Name: price, Length: 6255, dtype: float64"
      ]
     },
     "execution_count": 213,
     "metadata": {},
     "output_type": "execute_result"
    }
   ],
   "source": [
    "y"
   ]
  },
  {
   "cell_type": "code",
   "execution_count": 214,
   "id": "919a66be",
   "metadata": {
    "colab": {
     "base_uri": "https://localhost:8080/",
     "height": 485
    },
    "id": "919a66be",
    "outputId": "3f2f44f4-c87e-4bd1-df54-1bb65e1f9913"
   },
   "outputs": [
    {
     "data": {
      "text/html": [
       "<div>\n",
       "<style scoped>\n",
       "    .dataframe tbody tr th:only-of-type {\n",
       "        vertical-align: middle;\n",
       "    }\n",
       "\n",
       "    .dataframe tbody tr th {\n",
       "        vertical-align: top;\n",
       "    }\n",
       "\n",
       "    .dataframe thead th {\n",
       "        text-align: right;\n",
       "    }\n",
       "</style>\n",
       "<table border=\"1\" class=\"dataframe\">\n",
       "  <thead>\n",
       "    <tr style=\"text-align: right;\">\n",
       "      <th></th>\n",
       "      <th>area</th>\n",
       "      <th>latitude</th>\n",
       "      <th>longitude</th>\n",
       "      <th>Bedrooms</th>\n",
       "      <th>Bathrooms</th>\n",
       "      <th>Balcony</th>\n",
       "      <th>parking</th>\n",
       "      <th>Lift</th>\n",
       "      <th>Ready to Move</th>\n",
       "      <th>Under Construction</th>\n",
       "      <th>New Property</th>\n",
       "      <th>Resale</th>\n",
       "      <th>Furnished</th>\n",
       "      <th>Semi-Furnished</th>\n",
       "      <th>Unfurnished</th>\n",
       "      <th>Flat</th>\n",
       "      <th>Individual House</th>\n",
       "    </tr>\n",
       "  </thead>\n",
       "  <tbody>\n",
       "    <tr>\n",
       "      <th>0</th>\n",
       "      <td>629.0</td>\n",
       "      <td>19.032800</td>\n",
       "      <td>72.896357</td>\n",
       "      <td>2.0</td>\n",
       "      <td>2.0</td>\n",
       "      <td>0.0</td>\n",
       "      <td>0.0</td>\n",
       "      <td>0.0</td>\n",
       "      <td>0</td>\n",
       "      <td>1</td>\n",
       "      <td>1</td>\n",
       "      <td>0</td>\n",
       "      <td>0</td>\n",
       "      <td>0</td>\n",
       "      <td>1</td>\n",
       "      <td>1</td>\n",
       "      <td>0</td>\n",
       "    </tr>\n",
       "    <tr>\n",
       "      <th>1</th>\n",
       "      <td>974.0</td>\n",
       "      <td>19.032800</td>\n",
       "      <td>72.896357</td>\n",
       "      <td>3.0</td>\n",
       "      <td>2.0</td>\n",
       "      <td>0.0</td>\n",
       "      <td>0.0</td>\n",
       "      <td>0.0</td>\n",
       "      <td>0</td>\n",
       "      <td>1</td>\n",
       "      <td>1</td>\n",
       "      <td>0</td>\n",
       "      <td>0</td>\n",
       "      <td>0</td>\n",
       "      <td>1</td>\n",
       "      <td>1</td>\n",
       "      <td>0</td>\n",
       "    </tr>\n",
       "    <tr>\n",
       "      <th>2</th>\n",
       "      <td>968.0</td>\n",
       "      <td>19.085600</td>\n",
       "      <td>72.909277</td>\n",
       "      <td>3.0</td>\n",
       "      <td>3.0</td>\n",
       "      <td>0.0</td>\n",
       "      <td>0.0</td>\n",
       "      <td>0.0</td>\n",
       "      <td>0</td>\n",
       "      <td>1</td>\n",
       "      <td>1</td>\n",
       "      <td>0</td>\n",
       "      <td>0</td>\n",
       "      <td>0</td>\n",
       "      <td>1</td>\n",
       "      <td>1</td>\n",
       "      <td>0</td>\n",
       "    </tr>\n",
       "    <tr>\n",
       "      <th>3</th>\n",
       "      <td>629.0</td>\n",
       "      <td>19.155756</td>\n",
       "      <td>72.846862</td>\n",
       "      <td>2.0</td>\n",
       "      <td>2.0</td>\n",
       "      <td>2.0</td>\n",
       "      <td>2.0</td>\n",
       "      <td>2.0</td>\n",
       "      <td>1</td>\n",
       "      <td>0</td>\n",
       "      <td>1</td>\n",
       "      <td>0</td>\n",
       "      <td>0</td>\n",
       "      <td>0</td>\n",
       "      <td>1</td>\n",
       "      <td>1</td>\n",
       "      <td>0</td>\n",
       "    </tr>\n",
       "    <tr>\n",
       "      <th>4</th>\n",
       "      <td>1090.0</td>\n",
       "      <td>19.177555</td>\n",
       "      <td>72.849887</td>\n",
       "      <td>2.0</td>\n",
       "      <td>2.0</td>\n",
       "      <td>0.0</td>\n",
       "      <td>0.0</td>\n",
       "      <td>0.0</td>\n",
       "      <td>1</td>\n",
       "      <td>0</td>\n",
       "      <td>1</td>\n",
       "      <td>0</td>\n",
       "      <td>0</td>\n",
       "      <td>0</td>\n",
       "      <td>1</td>\n",
       "      <td>1</td>\n",
       "      <td>0</td>\n",
       "    </tr>\n",
       "    <tr>\n",
       "      <th>...</th>\n",
       "      <td>...</td>\n",
       "      <td>...</td>\n",
       "      <td>...</td>\n",
       "      <td>...</td>\n",
       "      <td>...</td>\n",
       "      <td>...</td>\n",
       "      <td>...</td>\n",
       "      <td>...</td>\n",
       "      <td>...</td>\n",
       "      <td>...</td>\n",
       "      <td>...</td>\n",
       "      <td>...</td>\n",
       "      <td>...</td>\n",
       "      <td>...</td>\n",
       "      <td>...</td>\n",
       "      <td>...</td>\n",
       "      <td>...</td>\n",
       "    </tr>\n",
       "    <tr>\n",
       "      <th>6250</th>\n",
       "      <td>810.0</td>\n",
       "      <td>19.138320</td>\n",
       "      <td>72.810020</td>\n",
       "      <td>2.0</td>\n",
       "      <td>2.0</td>\n",
       "      <td>0.0</td>\n",
       "      <td>0.0</td>\n",
       "      <td>0.0</td>\n",
       "      <td>1</td>\n",
       "      <td>0</td>\n",
       "      <td>0</td>\n",
       "      <td>1</td>\n",
       "      <td>0</td>\n",
       "      <td>1</td>\n",
       "      <td>0</td>\n",
       "      <td>1</td>\n",
       "      <td>0</td>\n",
       "    </tr>\n",
       "    <tr>\n",
       "      <th>6251</th>\n",
       "      <td>1400.0</td>\n",
       "      <td>19.221920</td>\n",
       "      <td>72.854250</td>\n",
       "      <td>3.0</td>\n",
       "      <td>3.0</td>\n",
       "      <td>1.0</td>\n",
       "      <td>1.0</td>\n",
       "      <td>1.0</td>\n",
       "      <td>1</td>\n",
       "      <td>0</td>\n",
       "      <td>0</td>\n",
       "      <td>1</td>\n",
       "      <td>0</td>\n",
       "      <td>0</td>\n",
       "      <td>1</td>\n",
       "      <td>1</td>\n",
       "      <td>0</td>\n",
       "    </tr>\n",
       "    <tr>\n",
       "      <th>6252</th>\n",
       "      <td>750.0</td>\n",
       "      <td>19.144320</td>\n",
       "      <td>72.824111</td>\n",
       "      <td>2.0</td>\n",
       "      <td>2.0</td>\n",
       "      <td>0.0</td>\n",
       "      <td>0.0</td>\n",
       "      <td>0.0</td>\n",
       "      <td>1</td>\n",
       "      <td>0</td>\n",
       "      <td>0</td>\n",
       "      <td>1</td>\n",
       "      <td>0</td>\n",
       "      <td>0</td>\n",
       "      <td>1</td>\n",
       "      <td>1</td>\n",
       "      <td>0</td>\n",
       "    </tr>\n",
       "    <tr>\n",
       "      <th>6253</th>\n",
       "      <td>700.0</td>\n",
       "      <td>19.047201</td>\n",
       "      <td>72.872225</td>\n",
       "      <td>2.0</td>\n",
       "      <td>2.0</td>\n",
       "      <td>0.0</td>\n",
       "      <td>0.0</td>\n",
       "      <td>0.0</td>\n",
       "      <td>1</td>\n",
       "      <td>0</td>\n",
       "      <td>0</td>\n",
       "      <td>1</td>\n",
       "      <td>1</td>\n",
       "      <td>0</td>\n",
       "      <td>0</td>\n",
       "      <td>1</td>\n",
       "      <td>0</td>\n",
       "    </tr>\n",
       "    <tr>\n",
       "      <th>6254</th>\n",
       "      <td>900.0</td>\n",
       "      <td>19.168818</td>\n",
       "      <td>72.936375</td>\n",
       "      <td>2.0</td>\n",
       "      <td>2.0</td>\n",
       "      <td>0.0</td>\n",
       "      <td>0.0</td>\n",
       "      <td>0.0</td>\n",
       "      <td>1</td>\n",
       "      <td>0</td>\n",
       "      <td>0</td>\n",
       "      <td>1</td>\n",
       "      <td>0</td>\n",
       "      <td>0</td>\n",
       "      <td>1</td>\n",
       "      <td>1</td>\n",
       "      <td>0</td>\n",
       "    </tr>\n",
       "  </tbody>\n",
       "</table>\n",
       "<p>6255 rows × 17 columns</p>\n",
       "</div>"
      ],
      "text/plain": [
       "        area   latitude  longitude  Bedrooms  Bathrooms  Balcony  parking  \\\n",
       "0      629.0  19.032800  72.896357       2.0        2.0      0.0      0.0   \n",
       "1      974.0  19.032800  72.896357       3.0        2.0      0.0      0.0   \n",
       "2      968.0  19.085600  72.909277       3.0        3.0      0.0      0.0   \n",
       "3      629.0  19.155756  72.846862       2.0        2.0      2.0      2.0   \n",
       "4     1090.0  19.177555  72.849887       2.0        2.0      0.0      0.0   \n",
       "...      ...        ...        ...       ...        ...      ...      ...   \n",
       "6250   810.0  19.138320  72.810020       2.0        2.0      0.0      0.0   \n",
       "6251  1400.0  19.221920  72.854250       3.0        3.0      1.0      1.0   \n",
       "6252   750.0  19.144320  72.824111       2.0        2.0      0.0      0.0   \n",
       "6253   700.0  19.047201  72.872225       2.0        2.0      0.0      0.0   \n",
       "6254   900.0  19.168818  72.936375       2.0        2.0      0.0      0.0   \n",
       "\n",
       "      Lift  Ready to Move  Under Construction  New Property  Resale  \\\n",
       "0      0.0              0                   1             1       0   \n",
       "1      0.0              0                   1             1       0   \n",
       "2      0.0              0                   1             1       0   \n",
       "3      2.0              1                   0             1       0   \n",
       "4      0.0              1                   0             1       0   \n",
       "...    ...            ...                 ...           ...     ...   \n",
       "6250   0.0              1                   0             0       1   \n",
       "6251   1.0              1                   0             0       1   \n",
       "6252   0.0              1                   0             0       1   \n",
       "6253   0.0              1                   0             0       1   \n",
       "6254   0.0              1                   0             0       1   \n",
       "\n",
       "      Furnished  Semi-Furnished  Unfurnished  Flat  Individual House  \n",
       "0             0               0            1     1                 0  \n",
       "1             0               0            1     1                 0  \n",
       "2             0               0            1     1                 0  \n",
       "3             0               0            1     1                 0  \n",
       "4             0               0            1     1                 0  \n",
       "...         ...             ...          ...   ...               ...  \n",
       "6250          0               1            0     1                 0  \n",
       "6251          0               0            1     1                 0  \n",
       "6252          0               0            1     1                 0  \n",
       "6253          1               0            0     1                 0  \n",
       "6254          0               0            1     1                 0  \n",
       "\n",
       "[6255 rows x 17 columns]"
      ]
     },
     "execution_count": 214,
     "metadata": {},
     "output_type": "execute_result"
    }
   ],
   "source": [
    "X"
   ]
  },
  {
   "cell_type": "code",
   "execution_count": 215,
   "id": "4e88b082",
   "metadata": {
    "id": "4e88b082"
   },
   "outputs": [],
   "source": [
    "X_train, X_test, y_train, y_test = train_test_split(X, y, test_size=0.2, shuffle=False)"
   ]
  },
  {
   "cell_type": "code",
   "execution_count": 142,
   "id": "292bb213",
   "metadata": {},
   "outputs": [
    {
     "data": {
      "text/plain": [
       "array([27177670.20618057, 38845378.00874138, 58187894.17677498, ...,\n",
       "       18345903.54318237, 23899884.27685452, 11439649.96230125])"
      ]
     },
     "execution_count": 142,
     "metadata": {},
     "output_type": "execute_result"
    }
   ],
   "source": [
    "lr = LinearRegression().fit(X_train, y_train)\n",
    "y_pred = lr.predict(X_test)\n",
    "y_pred"
   ]
  },
  {
   "cell_type": "code",
   "execution_count": 143,
   "id": "0ce7206f",
   "metadata": {},
   "outputs": [
    {
     "data": {
      "text/plain": [
       "(1251,)"
      ]
     },
     "execution_count": 143,
     "metadata": {},
     "output_type": "execute_result"
    }
   ],
   "source": [
    "y_pred.shape"
   ]
  },
  {
   "cell_type": "code",
   "execution_count": 144,
   "id": "ea93bcad",
   "metadata": {
    "colab": {
     "base_uri": "https://localhost:8080/"
    },
    "id": "ea93bcad",
    "outputId": "263e2fb7-992e-42a1-edd9-bae791fe6610"
   },
   "outputs": [
    {
     "name": "stdout",
     "output_type": "stream",
     "text": [
      "MAE: 10231528.734740173\n",
      "MSE: 326239809616389.3\n",
      "RMSE: 18062109.777553376\n",
      "MAPE: 0.7513574051424674\n",
      "R^2: 0.640183993102154\n"
     ]
    }
   ],
   "source": [
    "print(f'MAE: {mean_absolute_error(y_test, y_pred)}')\n",
    "print(f'MSE: {mean_squared_error(y_test, y_pred)}')\n",
    "print(f'RMSE: {sqrt(mean_squared_error(y_test, y_pred))}')\n",
    "print(f'MAPE: {sqrt(mean_absolute_percentage_error(y_test, y_pred))}')\n",
    "print(f'R^2: {lr.score(X_test, y_test)}')"
   ]
  },
  {
   "cell_type": "code",
   "execution_count": 145,
   "id": "69496c6c",
   "metadata": {
    "colab": {
     "base_uri": "https://localhost:8080/"
    },
    "id": "69496c6c",
    "outputId": "273970ef-814b-4bd9-ea3c-861be948828e"
   },
   "outputs": [
    {
     "data": {
      "text/plain": [
       "array([ 2.13771508e+04, -7.90092497e+07, -7.28394540e+07,  6.84026190e+05,\n",
       "        7.30302657e+06, -1.33150346e+05, -1.33150346e+05, -1.33150346e+05,\n",
       "       -2.09529614e+06,  2.09529614e+06,  7.06370378e+04, -7.06370378e+04,\n",
       "        1.54892456e+06, -6.43694409e+05, -9.05230150e+05,  5.12404739e+03,\n",
       "       -5.12404739e+03])"
      ]
     },
     "execution_count": 145,
     "metadata": {},
     "output_type": "execute_result"
    }
   ],
   "source": [
    "len(lr.coef_)\n",
    "lr.coef_"
   ]
  },
  {
   "cell_type": "code",
   "execution_count": 146,
   "id": "a1447c60",
   "metadata": {
    "colab": {
     "base_uri": "https://localhost:8080/"
    },
    "id": "a1447c60",
    "outputId": "37a45a3a-0ce3-46cb-ad00-881258215a30"
   },
   "outputs": [
    {
     "name": "stdout",
     "output_type": "stream",
     "text": [
      "MAE: 10206923.167395014\n",
      "MSE: 326711873409971.7\n",
      "RMSE: 18075172.845922433\n",
      "MAPE: 0.7480307584217453\n",
      "R^2: 0.6396633450874081\n"
     ]
    },
    {
     "data": {
      "text/plain": [
       "array([ 2.14085214e+04, -7.79368189e+07, -7.00100045e+07,  6.66352448e+05,\n",
       "        7.34105952e+06, -1.38645817e+05, -1.38645817e+05, -1.38645817e+05,\n",
       "       -1.88974525e+06,  1.88974525e+06,  7.43382611e+04, -7.43382611e+04,\n",
       "        1.57313903e+06, -6.61587100e+05, -9.11551932e+05,  2.38109620e+04,\n",
       "       -2.38109620e+04])"
      ]
     },
     "execution_count": 146,
     "metadata": {},
     "output_type": "execute_result"
    }
   ],
   "source": [
    "#L1\n",
    "ridge = Ridge(alpha = 0.7).fit(X_train, y_train)\n",
    "y_pred = ridge.predict(X_test)\n",
    "print(f'MAE: {mean_absolute_error(y_test, y_pred)}')\n",
    "print(f'MSE: {mean_squared_error(y_test, y_pred)}')\n",
    "print(f'RMSE: {sqrt(mean_squared_error(y_test, y_pred))}')\n",
    "print(f'MAPE: {sqrt(mean_absolute_percentage_error(y_test, y_pred))}')\n",
    "print(f'R^2: {ridge.score(X_test, y_test)}')\n",
    "ridge.coef_"
   ]
  },
  {
   "cell_type": "code",
   "execution_count": 147,
   "id": "9zuWGffuvlIu",
   "metadata": {
    "colab": {
     "base_uri": "https://localhost:8080/"
    },
    "id": "9zuWGffuvlIu",
    "outputId": "1b7b4601-8f7e-4785-e46f-b201242af58c"
   },
   "outputs": [
    {
     "data": {
      "text/plain": [
       "{'alpha': 0.7000000000000001}"
      ]
     },
     "execution_count": 147,
     "metadata": {},
     "output_type": "execute_result"
    }
   ],
   "source": [
    "parameters = {'alpha' : np.arange(0, 1, 0.1)}\n",
    "ridge_optimal = GridSearchCV(Ridge(), parameters).fit(X_train, y_train)\n",
    "ridge_optimal.best_params_"
   ]
  },
  {
   "cell_type": "code",
   "execution_count": 148,
   "id": "5a55cb38",
   "metadata": {
    "colab": {
     "base_uri": "https://localhost:8080/"
    },
    "id": "5a55cb38",
    "outputId": "c9db8d9f-cdfa-47dc-a533-a37d25585757"
   },
   "outputs": [
    {
     "name": "stdout",
     "output_type": "stream",
     "text": [
      "MAE: 10231526.730257409\n",
      "MSE: 326239851789442.1\n",
      "RMSE: 18062110.944998708\n",
      "MAPE: 0.7513571381971351\n",
      "R^2: 0.6401839465887028\n"
     ]
    },
    {
     "data": {
      "text/plain": [
       "array([ 2.13771545e+04, -7.90091713e+07, -7.28391936e+07,  6.84024331e+05,\n",
       "        7.30302762e+06, -3.99452325e+05, -2.86669284e-10, -8.74092218e-11,\n",
       "       -4.18909164e+06,  2.18349000e-09,  1.41272826e+05, -6.55732489e-10,\n",
       "        2.42368344e+06,  2.31061052e+05, -3.04680649e+04,  1.02361243e+04,\n",
       "       -0.00000000e+00])"
      ]
     },
     "execution_count": 148,
     "metadata": {},
     "output_type": "execute_result"
    }
   ],
   "source": [
    "#L2\n",
    "lasso = Lasso(alpha = 0.9).fit(X_train, y_train)\n",
    "y_pred = lasso.predict(X_test)\n",
    "print(f'MAE: {mean_absolute_error(y_test, y_pred)}')\n",
    "print(f'MSE: {mean_squared_error(y_test, y_pred)}')\n",
    "print(f'RMSE: {sqrt(mean_squared_error(y_test, y_pred))}')\n",
    "print(f'MAPE: {sqrt(mean_absolute_percentage_error(y_test, y_pred))}')\n",
    "print(f'R^2: {lasso.score(X_test, y_test)}')\n",
    "lasso.coef_"
   ]
  },
  {
   "cell_type": "code",
   "execution_count": 149,
   "id": "c279aba8",
   "metadata": {
    "colab": {
     "base_uri": "https://localhost:8080/"
    },
    "id": "c279aba8",
    "outputId": "0ab5effb-6276-4e2a-b258-6c786a316c6b"
   },
   "outputs": [
    {
     "data": {
      "text/plain": [
       "{'alpha': 49}"
      ]
     },
     "execution_count": 149,
     "metadata": {},
     "output_type": "execute_result"
    }
   ],
   "source": [
    "parameters = {'alpha' : np.arange(1, 50, 1)}\n",
    "ridge_optimal = GridSearchCV(Lasso(), parameters).fit(X_train, y_train)\n",
    "ridge_optimal.best_params_"
   ]
  },
  {
   "cell_type": "markdown",
   "id": "4fd8c286",
   "metadata": {},
   "source": [
    "# Полиномиальная регрессия"
   ]
  },
  {
   "cell_type": "code",
   "execution_count": 150,
   "id": "f4a1a5e8",
   "metadata": {},
   "outputs": [],
   "source": [
    "lr = make_pipeline(PolynomialFeatures(2), LinearRegression()).fit(X_train, y_train)\n",
    "y_pred = lr.predict(X_test)"
   ]
  },
  {
   "cell_type": "code",
   "execution_count": 151,
   "id": "e6a1e24a",
   "metadata": {},
   "outputs": [
    {
     "name": "stdout",
     "output_type": "stream",
     "text": [
      "MAE: 8828824.762505425\n",
      "MSE: 234073072187048.38\n",
      "RMSE: 15299446.79349709\n",
      "MAPE: 0.6797632683587348\n"
     ]
    },
    {
     "data": {
      "text/plain": [
       "array([ 2.13771545e+04, -7.90091713e+07, -7.28391936e+07,  6.84024331e+05,\n",
       "        7.30302762e+06, -3.99452325e+05, -2.86669284e-10, -8.74092218e-11,\n",
       "       -4.18909164e+06,  2.18349000e-09,  1.41272826e+05, -6.55732489e-10,\n",
       "        2.42368344e+06,  2.31061052e+05, -3.04680649e+04,  1.02361243e+04,\n",
       "       -0.00000000e+00])"
      ]
     },
     "execution_count": 151,
     "metadata": {},
     "output_type": "execute_result"
    }
   ],
   "source": [
    "print(f'MAE: {mean_absolute_error(y_test, y_pred)}')\n",
    "print(f'MSE: {mean_squared_error(y_test, y_pred)}')\n",
    "print(f'RMSE: {sqrt(mean_squared_error(y_test, y_pred))}')\n",
    "print(f'MAPE: {sqrt(mean_absolute_percentage_error(y_test, y_pred))}')\n",
    "lasso.coef_"
   ]
  },
  {
   "cell_type": "markdown",
   "id": "6fa95a7f",
   "metadata": {},
   "source": [
    "# Самостоятельное выполнение"
   ]
  },
  {
   "cell_type": "markdown",
   "id": "78d3f9c9",
   "metadata": {},
   "source": [
    "# Метрики"
   ]
  },
  {
   "cell_type": "code",
   "execution_count": 373,
   "id": "f0a335e0",
   "metadata": {},
   "outputs": [],
   "source": [
    "def mae(y, y_pred):\n",
    "    return abs(y-y_pred).mean()\n",
    "\n",
    "def mse(y, y_pred):\n",
    "    return ((y-y_pred)**2).mean()\n",
    "\n",
    "def rmse(y, y_pred):\n",
    "    return sqrt(((y-y_pred)**2).mean())\n",
    "\n",
    "def mape(y, y_pred):\n",
    "    return abs((y-y_pred)/y).mean()\n",
    "\n",
    "# def R2(y, y_pred):\n",
    "#     return 1 - ((y-y_pred)**2).mean() / ((y-y.mean())**2).mean()\n",
    "def R2(y_r, y_p):\n",
    "        return 1 - (np.sum((y_p-np.mean(y_r))**2))/(np.sum((y_r-np.mean(y_r))**2))"
   ]
  },
  {
   "cell_type": "code",
   "execution_count": 153,
   "id": "f9ae059d",
   "metadata": {},
   "outputs": [
    {
     "name": "stdout",
     "output_type": "stream",
     "text": [
      "8828824.762505425\n",
      "234073072187048.38\n",
      "15299446.79349709\n",
      "0.4620781010097493\n",
      "0.7418364170341771\n"
     ]
    }
   ],
   "source": [
    "print(mae(y_test, y_pred))\n",
    "print(mse(y_test, y_pred))\n",
    "print(rmse(y_test, y_pred))\n",
    "print(mape(y_test, y_pred))\n",
    "print(R2(y_test, y_pred))"
   ]
  },
  {
   "cell_type": "markdown",
   "id": "d485618c",
   "metadata": {},
   "source": [
    "# Линейная регрессия с регуляризацией"
   ]
  },
  {
   "cell_type": "code",
   "execution_count": 367,
   "id": "c1c63d02",
   "metadata": {},
   "outputs": [],
   "source": [
    "class LinearRegression:\n",
    "    \n",
    "    def grad(self, w, n, alpha):\n",
    "        buf = [0 for i in range(len(w))]\n",
    "        for i in range(len(self.X)):\n",
    "            buf += (self.X[i]*w - self.y[i])*self.X[i][n] + alpha*np.sign(w) #np.linalg.norm(w)\n",
    "        return buf\n",
    "    \n",
    "    def fit(self, X, y, eta = 1e-8, alpha = 0.5):\n",
    "        self.X = X.values\n",
    "        self.y = y.values\n",
    "        self.X = np.hstack((np.ones((self.X.shape[0], 1)), self.X))\n",
    "        self.w = np.zeros(self.X.shape[1])\n",
    "        for i in range(self.X.shape[1]):\n",
    "            self.w = self.w - (2 * eta / self.X.shape[0]) * self.grad(self.w, i, alpha)\n",
    "    def predict(self, X):\n",
    "        X = X.values\n",
    "        return np.sum(X * self.w[1:],axis = 1)"
   ]
  },
  {
   "cell_type": "code",
   "execution_count": 368,
   "id": "89b07f22",
   "metadata": {},
   "outputs": [
    {
     "data": {
      "text/plain": [
       "27168730.547832623"
      ]
     },
     "execution_count": 368,
     "metadata": {},
     "output_type": "execute_result"
    }
   ],
   "source": [
    "lr = LinearRegression()\n",
    "lr.fit(X_train, y_train)\n",
    "y_pred = lr.predict(X_test)\n",
    "mae(y_test, y_pred)"
   ]
  },
  {
   "cell_type": "code",
   "execution_count": 374,
   "id": "009e922a",
   "metadata": {},
   "outputs": [
    {
     "name": "stdout",
     "output_type": "stream",
     "text": [
      "27168730.547832623\n",
      "1620513363899729.5\n",
      "40255600.40416401\n",
      "0.9303534006885364\n",
      "0.18551592483966306\n"
     ]
    }
   ],
   "source": [
    "print(mae(y_test, y_pred))\n",
    "print(mse(y_test, y_pred))\n",
    "print(rmse(y_test, y_pred))\n",
    "print(mape(y_test, y_pred))\n",
    "print(R2(y_test, y_pred))"
   ]
  },
  {
   "cell_type": "code",
   "execution_count": 370,
   "id": "620e4666",
   "metadata": {},
   "outputs": [
    {
     "name": "stdout",
     "output_type": "stream",
     "text": [
      "R^2: 0.6396633450874081\n"
     ]
    }
   ],
   "source": [
    "print(f'R^2: {ridge.score(X_test, y_test)}')"
   ]
  },
  {
   "cell_type": "code",
   "execution_count": 379,
   "id": "27785fac",
   "metadata": {},
   "outputs": [
    {
     "data": {
      "text/plain": [
       "26841873.70103917"
      ]
     },
     "execution_count": 379,
     "metadata": {},
     "output_type": "execute_result"
    }
   ],
   "source": [
    "y.mean()"
   ]
  },
  {
   "cell_type": "code",
   "execution_count": null,
   "id": "6e57afd1",
   "metadata": {},
   "outputs": [],
   "source": []
  }
 ],
 "metadata": {
  "colab": {
   "collapsed_sections": [
    "M_x8_o2532UI"
   ],
   "provenance": []
  },
  "kernelspec": {
   "display_name": "Python 3 (ipykernel)",
   "language": "python",
   "name": "python3"
  },
  "language_info": {
   "codemirror_mode": {
    "name": "ipython",
    "version": 3
   },
   "file_extension": ".py",
   "mimetype": "text/x-python",
   "name": "python",
   "nbconvert_exporter": "python",
   "pygments_lexer": "ipython3",
   "version": "3.9.13"
  },
  "vscode": {
   "interpreter": {
    "hash": "a11e72d4e38986fcb8b81bc47ac3b5e50302de5090c9e48513f0b7cce9c37f05"
   }
  }
 },
 "nbformat": 4,
 "nbformat_minor": 5
}
