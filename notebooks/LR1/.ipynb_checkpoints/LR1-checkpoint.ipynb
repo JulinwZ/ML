{
 "cells": [
  {
   "cell_type": "markdown",
   "id": "43dfc1f0",
   "metadata": {},
   "source": [
    "# Лабораторная работа 1. Введение в машинное обучение. Обучение с учителем. Задача регрессии"
   ]
  },
  {
   "cell_type": "markdown",
   "id": "af0b0580",
   "metadata": {},
   "source": [
    "<b>Традиционное предупреждение для всех лабораторных работ:</b> перед обучением моделей необходимо выполнить предварительную обработку данных, которая <b>обязательно</b> включает в себя:\n",
    "- заполнение пропущенных значений (рекомедуется логика заполнения пропусков на основе типа данных, которая использовалась в РГР по Практикуму);\n",
    "- преобразование категориальных признаков в числовые (используйте one-hot кодирование или map; используйте знания с Практикума)."
   ]
  },
  {
   "cell_type": "markdown",
   "id": "b08d9e23",
   "metadata": {},
   "source": [
    "Предобработка может включать в себя другие действия, но выполнение описанных выше действий обязательно."
   ]
  },
  {
   "cell_type": "markdown",
   "id": "05aab9d1",
   "metadata": {},
   "source": [
    "Сделайте это один раз и сохраните в отдельный csv файл, а потом его используйте."
   ]
  },
  {
   "cell_type": "markdown",
   "id": "e053af5b",
   "metadata": {},
   "source": [
    "<b>Выполните следующие задания:</b>\n",
    "- загрузите датасет для регрессии, выделите целевой признак и предикторы, разбейте данные на обучающую и тестовую выборку;\n",
    "- решите задачу регрессии на ваших данных с использованием моделей sklearn (линейная регрессия + L1, L2), для моделей с регуляризациями подберите гиперпараметр;\n",
    "- решите задачу регрессии на ваших данных с использованием моделей sklearn (полиномиальная регрессия + L1, L2), для моделей с регуляризациями подберите гиперпараметр;\n",
    "- вычислите значения метрик $R^2$, MAE, MSE, RMSE, MAPE для всех обученных моделей; выберите лучшую модель;\n",
    "- самостоятельно реализуйте (желательно в виде класса) модель линейной регрессии с регуляризацией (можете выбрать L1 или L2);\n",
    "- самостоятельно реализуйте вычисление всех используемых метрик (в виде функций, принимающих два аргумента);\n",
    "- обучите вашу модель линейной регрессии на ваших данных; оцените качество с помощью реализованных вами метрик."
   ]
  },
  {
   "cell_type": "code",
   "execution_count": 139,
   "id": "f500beec",
   "metadata": {},
   "outputs": [
    {
     "data": {
      "text/html": [
       "<div>\n",
       "<style scoped>\n",
       "    .dataframe tbody tr th:only-of-type {\n",
       "        vertical-align: middle;\n",
       "    }\n",
       "\n",
       "    .dataframe tbody tr th {\n",
       "        vertical-align: top;\n",
       "    }\n",
       "\n",
       "    .dataframe thead th {\n",
       "        text-align: right;\n",
       "    }\n",
       "</style>\n",
       "<table border=\"1\" class=\"dataframe\">\n",
       "  <thead>\n",
       "    <tr style=\"text-align: right;\">\n",
       "      <th></th>\n",
       "      <th>price</th>\n",
       "      <th>area</th>\n",
       "      <th>latitude</th>\n",
       "      <th>longitude</th>\n",
       "      <th>Bedrooms</th>\n",
       "      <th>Bathrooms</th>\n",
       "      <th>Balcony</th>\n",
       "      <th>parking</th>\n",
       "      <th>Lift</th>\n",
       "      <th>Ready to Move</th>\n",
       "      <th>Under Construction</th>\n",
       "      <th>New Property</th>\n",
       "      <th>Resale</th>\n",
       "      <th>Furnished</th>\n",
       "      <th>Semi-Furnished</th>\n",
       "      <th>Unfurnished</th>\n",
       "      <th>Flat</th>\n",
       "      <th>Individual House</th>\n",
       "    </tr>\n",
       "  </thead>\n",
       "  <tbody>\n",
       "    <tr>\n",
       "      <th>0</th>\n",
       "      <td>22400000.0</td>\n",
       "      <td>629.0</td>\n",
       "      <td>19.032800</td>\n",
       "      <td>72.896357</td>\n",
       "      <td>2.0</td>\n",
       "      <td>2.0</td>\n",
       "      <td>0.0</td>\n",
       "      <td>0.0</td>\n",
       "      <td>0.0</td>\n",
       "      <td>0</td>\n",
       "      <td>1</td>\n",
       "      <td>1</td>\n",
       "      <td>0</td>\n",
       "      <td>0</td>\n",
       "      <td>0</td>\n",
       "      <td>1</td>\n",
       "      <td>1</td>\n",
       "      <td>0</td>\n",
       "    </tr>\n",
       "    <tr>\n",
       "      <th>1</th>\n",
       "      <td>35000000.0</td>\n",
       "      <td>974.0</td>\n",
       "      <td>19.032800</td>\n",
       "      <td>72.896357</td>\n",
       "      <td>3.0</td>\n",
       "      <td>2.0</td>\n",
       "      <td>0.0</td>\n",
       "      <td>0.0</td>\n",
       "      <td>0.0</td>\n",
       "      <td>0</td>\n",
       "      <td>1</td>\n",
       "      <td>1</td>\n",
       "      <td>0</td>\n",
       "      <td>0</td>\n",
       "      <td>0</td>\n",
       "      <td>1</td>\n",
       "      <td>1</td>\n",
       "      <td>0</td>\n",
       "    </tr>\n",
       "    <tr>\n",
       "      <th>2</th>\n",
       "      <td>31700000.0</td>\n",
       "      <td>968.0</td>\n",
       "      <td>19.085600</td>\n",
       "      <td>72.909277</td>\n",
       "      <td>3.0</td>\n",
       "      <td>3.0</td>\n",
       "      <td>0.0</td>\n",
       "      <td>0.0</td>\n",
       "      <td>0.0</td>\n",
       "      <td>0</td>\n",
       "      <td>1</td>\n",
       "      <td>1</td>\n",
       "      <td>0</td>\n",
       "      <td>0</td>\n",
       "      <td>0</td>\n",
       "      <td>1</td>\n",
       "      <td>1</td>\n",
       "      <td>0</td>\n",
       "    </tr>\n",
       "    <tr>\n",
       "      <th>3</th>\n",
       "      <td>18700000.0</td>\n",
       "      <td>629.0</td>\n",
       "      <td>19.155756</td>\n",
       "      <td>72.846862</td>\n",
       "      <td>2.0</td>\n",
       "      <td>2.0</td>\n",
       "      <td>2.0</td>\n",
       "      <td>2.0</td>\n",
       "      <td>2.0</td>\n",
       "      <td>1</td>\n",
       "      <td>0</td>\n",
       "      <td>1</td>\n",
       "      <td>0</td>\n",
       "      <td>0</td>\n",
       "      <td>0</td>\n",
       "      <td>1</td>\n",
       "      <td>1</td>\n",
       "      <td>0</td>\n",
       "    </tr>\n",
       "    <tr>\n",
       "      <th>4</th>\n",
       "      <td>13500000.0</td>\n",
       "      <td>1090.0</td>\n",
       "      <td>19.177555</td>\n",
       "      <td>72.849887</td>\n",
       "      <td>2.0</td>\n",
       "      <td>2.0</td>\n",
       "      <td>0.0</td>\n",
       "      <td>0.0</td>\n",
       "      <td>0.0</td>\n",
       "      <td>1</td>\n",
       "      <td>0</td>\n",
       "      <td>1</td>\n",
       "      <td>0</td>\n",
       "      <td>0</td>\n",
       "      <td>0</td>\n",
       "      <td>1</td>\n",
       "      <td>1</td>\n",
       "      <td>0</td>\n",
       "    </tr>\n",
       "    <tr>\n",
       "      <th>...</th>\n",
       "      <td>...</td>\n",
       "      <td>...</td>\n",
       "      <td>...</td>\n",
       "      <td>...</td>\n",
       "      <td>...</td>\n",
       "      <td>...</td>\n",
       "      <td>...</td>\n",
       "      <td>...</td>\n",
       "      <td>...</td>\n",
       "      <td>...</td>\n",
       "      <td>...</td>\n",
       "      <td>...</td>\n",
       "      <td>...</td>\n",
       "      <td>...</td>\n",
       "      <td>...</td>\n",
       "      <td>...</td>\n",
       "      <td>...</td>\n",
       "      <td>...</td>\n",
       "    </tr>\n",
       "    <tr>\n",
       "      <th>6250</th>\n",
       "      <td>19500000.0</td>\n",
       "      <td>810.0</td>\n",
       "      <td>19.138320</td>\n",
       "      <td>72.810020</td>\n",
       "      <td>2.0</td>\n",
       "      <td>2.0</td>\n",
       "      <td>0.0</td>\n",
       "      <td>0.0</td>\n",
       "      <td>0.0</td>\n",
       "      <td>1</td>\n",
       "      <td>0</td>\n",
       "      <td>0</td>\n",
       "      <td>1</td>\n",
       "      <td>0</td>\n",
       "      <td>1</td>\n",
       "      <td>0</td>\n",
       "      <td>1</td>\n",
       "      <td>0</td>\n",
       "    </tr>\n",
       "    <tr>\n",
       "      <th>6251</th>\n",
       "      <td>22000000.0</td>\n",
       "      <td>1400.0</td>\n",
       "      <td>19.221920</td>\n",
       "      <td>72.854250</td>\n",
       "      <td>3.0</td>\n",
       "      <td>3.0</td>\n",
       "      <td>1.0</td>\n",
       "      <td>1.0</td>\n",
       "      <td>1.0</td>\n",
       "      <td>1</td>\n",
       "      <td>0</td>\n",
       "      <td>0</td>\n",
       "      <td>1</td>\n",
       "      <td>0</td>\n",
       "      <td>0</td>\n",
       "      <td>1</td>\n",
       "      <td>1</td>\n",
       "      <td>0</td>\n",
       "    </tr>\n",
       "    <tr>\n",
       "      <th>6252</th>\n",
       "      <td>20000000.0</td>\n",
       "      <td>750.0</td>\n",
       "      <td>19.144320</td>\n",
       "      <td>72.824111</td>\n",
       "      <td>2.0</td>\n",
       "      <td>2.0</td>\n",
       "      <td>0.0</td>\n",
       "      <td>0.0</td>\n",
       "      <td>0.0</td>\n",
       "      <td>1</td>\n",
       "      <td>0</td>\n",
       "      <td>0</td>\n",
       "      <td>1</td>\n",
       "      <td>0</td>\n",
       "      <td>0</td>\n",
       "      <td>1</td>\n",
       "      <td>1</td>\n",
       "      <td>0</td>\n",
       "    </tr>\n",
       "    <tr>\n",
       "      <th>6253</th>\n",
       "      <td>11000000.0</td>\n",
       "      <td>700.0</td>\n",
       "      <td>19.047201</td>\n",
       "      <td>72.872225</td>\n",
       "      <td>2.0</td>\n",
       "      <td>2.0</td>\n",
       "      <td>0.0</td>\n",
       "      <td>0.0</td>\n",
       "      <td>0.0</td>\n",
       "      <td>1</td>\n",
       "      <td>0</td>\n",
       "      <td>0</td>\n",
       "      <td>1</td>\n",
       "      <td>1</td>\n",
       "      <td>0</td>\n",
       "      <td>0</td>\n",
       "      <td>1</td>\n",
       "      <td>0</td>\n",
       "    </tr>\n",
       "    <tr>\n",
       "      <th>6254</th>\n",
       "      <td>15000000.0</td>\n",
       "      <td>900.0</td>\n",
       "      <td>19.168818</td>\n",
       "      <td>72.936375</td>\n",
       "      <td>2.0</td>\n",
       "      <td>2.0</td>\n",
       "      <td>0.0</td>\n",
       "      <td>0.0</td>\n",
       "      <td>0.0</td>\n",
       "      <td>1</td>\n",
       "      <td>0</td>\n",
       "      <td>0</td>\n",
       "      <td>1</td>\n",
       "      <td>0</td>\n",
       "      <td>0</td>\n",
       "      <td>1</td>\n",
       "      <td>1</td>\n",
       "      <td>0</td>\n",
       "    </tr>\n",
       "  </tbody>\n",
       "</table>\n",
       "<p>6255 rows × 18 columns</p>\n",
       "</div>"
      ],
      "text/plain": [
       "           price    area   latitude  longitude  Bedrooms  Bathrooms  Balcony  \\\n",
       "0     22400000.0   629.0  19.032800  72.896357       2.0        2.0      0.0   \n",
       "1     35000000.0   974.0  19.032800  72.896357       3.0        2.0      0.0   \n",
       "2     31700000.0   968.0  19.085600  72.909277       3.0        3.0      0.0   \n",
       "3     18700000.0   629.0  19.155756  72.846862       2.0        2.0      2.0   \n",
       "4     13500000.0  1090.0  19.177555  72.849887       2.0        2.0      0.0   \n",
       "...          ...     ...        ...        ...       ...        ...      ...   \n",
       "6250  19500000.0   810.0  19.138320  72.810020       2.0        2.0      0.0   \n",
       "6251  22000000.0  1400.0  19.221920  72.854250       3.0        3.0      1.0   \n",
       "6252  20000000.0   750.0  19.144320  72.824111       2.0        2.0      0.0   \n",
       "6253  11000000.0   700.0  19.047201  72.872225       2.0        2.0      0.0   \n",
       "6254  15000000.0   900.0  19.168818  72.936375       2.0        2.0      0.0   \n",
       "\n",
       "      parking  Lift  Ready to Move  Under Construction  New Property  Resale  \\\n",
       "0         0.0   0.0              0                   1             1       0   \n",
       "1         0.0   0.0              0                   1             1       0   \n",
       "2         0.0   0.0              0                   1             1       0   \n",
       "3         2.0   2.0              1                   0             1       0   \n",
       "4         0.0   0.0              1                   0             1       0   \n",
       "...       ...   ...            ...                 ...           ...     ...   \n",
       "6250      0.0   0.0              1                   0             0       1   \n",
       "6251      1.0   1.0              1                   0             0       1   \n",
       "6252      0.0   0.0              1                   0             0       1   \n",
       "6253      0.0   0.0              1                   0             0       1   \n",
       "6254      0.0   0.0              1                   0             0       1   \n",
       "\n",
       "      Furnished  Semi-Furnished  Unfurnished  Flat  Individual House  \n",
       "0             0               0            1     1                 0  \n",
       "1             0               0            1     1                 0  \n",
       "2             0               0            1     1                 0  \n",
       "3             0               0            1     1                 0  \n",
       "4             0               0            1     1                 0  \n",
       "...         ...             ...          ...   ...               ...  \n",
       "6250          0               1            0     1                 0  \n",
       "6251          0               0            1     1                 0  \n",
       "6252          0               0            1     1                 0  \n",
       "6253          1               0            0     1                 0  \n",
       "6254          0               0            1     1                 0  \n",
       "\n",
       "[6255 rows x 18 columns]"
      ]
     },
     "execution_count": 139,
     "metadata": {},
     "output_type": "execute_result"
    }
   ],
   "source": [
    "import pandas as pd\n",
    "from sklearn.model_selection import train_test_split\n",
    "from sklearn.linear_model import LinearRegression, Lasso, Ridge\n",
    "from sklearn.metrics import mean_squared_error, mean_absolute_error, mean_absolute_percentage_error\n",
    "from math import sqrt\n",
    "from sklearn.model_selection import GridSearchCV, RandomizedSearchCV\n",
    "import numpy as np\n",
    "from sklearn.preprocessing import PolynomialFeatures\n",
    "import matplotlib.pyplot as plt\n",
    "\n",
    "data = pd.read_csv('result.csv', sep = ',')\n",
    "data = data.drop(columns = ['Unnamed: 0'])\n",
    "data"
   ]
  },
  {
   "cell_type": "code",
   "execution_count": 140,
   "id": "d08e5dac",
   "metadata": {},
   "outputs": [],
   "source": [
    "y = data['price']\n",
    "X = data.drop(['price'], axis = 1)"
   ]
  },
  {
   "cell_type": "code",
   "execution_count": 141,
   "id": "d1946192",
   "metadata": {},
   "outputs": [
    {
     "data": {
      "text/plain": [
       "0       22400000.0\n",
       "1       35000000.0\n",
       "2       31700000.0\n",
       "3       18700000.0\n",
       "4       13500000.0\n",
       "           ...    \n",
       "6250    19500000.0\n",
       "6251    22000000.0\n",
       "6252    20000000.0\n",
       "6253    11000000.0\n",
       "6254    15000000.0\n",
       "Name: price, Length: 6255, dtype: float64"
      ]
     },
     "execution_count": 141,
     "metadata": {},
     "output_type": "execute_result"
    }
   ],
   "source": [
    "y"
   ]
  },
  {
   "cell_type": "code",
   "execution_count": 142,
   "id": "919a66be",
   "metadata": {},
   "outputs": [
    {
     "data": {
      "text/html": [
       "<div>\n",
       "<style scoped>\n",
       "    .dataframe tbody tr th:only-of-type {\n",
       "        vertical-align: middle;\n",
       "    }\n",
       "\n",
       "    .dataframe tbody tr th {\n",
       "        vertical-align: top;\n",
       "    }\n",
       "\n",
       "    .dataframe thead th {\n",
       "        text-align: right;\n",
       "    }\n",
       "</style>\n",
       "<table border=\"1\" class=\"dataframe\">\n",
       "  <thead>\n",
       "    <tr style=\"text-align: right;\">\n",
       "      <th></th>\n",
       "      <th>area</th>\n",
       "      <th>latitude</th>\n",
       "      <th>longitude</th>\n",
       "      <th>Bedrooms</th>\n",
       "      <th>Bathrooms</th>\n",
       "      <th>Balcony</th>\n",
       "      <th>parking</th>\n",
       "      <th>Lift</th>\n",
       "      <th>Ready to Move</th>\n",
       "      <th>Under Construction</th>\n",
       "      <th>New Property</th>\n",
       "      <th>Resale</th>\n",
       "      <th>Furnished</th>\n",
       "      <th>Semi-Furnished</th>\n",
       "      <th>Unfurnished</th>\n",
       "      <th>Flat</th>\n",
       "      <th>Individual House</th>\n",
       "    </tr>\n",
       "  </thead>\n",
       "  <tbody>\n",
       "    <tr>\n",
       "      <th>0</th>\n",
       "      <td>629.0</td>\n",
       "      <td>19.032800</td>\n",
       "      <td>72.896357</td>\n",
       "      <td>2.0</td>\n",
       "      <td>2.0</td>\n",
       "      <td>0.0</td>\n",
       "      <td>0.0</td>\n",
       "      <td>0.0</td>\n",
       "      <td>0</td>\n",
       "      <td>1</td>\n",
       "      <td>1</td>\n",
       "      <td>0</td>\n",
       "      <td>0</td>\n",
       "      <td>0</td>\n",
       "      <td>1</td>\n",
       "      <td>1</td>\n",
       "      <td>0</td>\n",
       "    </tr>\n",
       "    <tr>\n",
       "      <th>1</th>\n",
       "      <td>974.0</td>\n",
       "      <td>19.032800</td>\n",
       "      <td>72.896357</td>\n",
       "      <td>3.0</td>\n",
       "      <td>2.0</td>\n",
       "      <td>0.0</td>\n",
       "      <td>0.0</td>\n",
       "      <td>0.0</td>\n",
       "      <td>0</td>\n",
       "      <td>1</td>\n",
       "      <td>1</td>\n",
       "      <td>0</td>\n",
       "      <td>0</td>\n",
       "      <td>0</td>\n",
       "      <td>1</td>\n",
       "      <td>1</td>\n",
       "      <td>0</td>\n",
       "    </tr>\n",
       "    <tr>\n",
       "      <th>2</th>\n",
       "      <td>968.0</td>\n",
       "      <td>19.085600</td>\n",
       "      <td>72.909277</td>\n",
       "      <td>3.0</td>\n",
       "      <td>3.0</td>\n",
       "      <td>0.0</td>\n",
       "      <td>0.0</td>\n",
       "      <td>0.0</td>\n",
       "      <td>0</td>\n",
       "      <td>1</td>\n",
       "      <td>1</td>\n",
       "      <td>0</td>\n",
       "      <td>0</td>\n",
       "      <td>0</td>\n",
       "      <td>1</td>\n",
       "      <td>1</td>\n",
       "      <td>0</td>\n",
       "    </tr>\n",
       "    <tr>\n",
       "      <th>3</th>\n",
       "      <td>629.0</td>\n",
       "      <td>19.155756</td>\n",
       "      <td>72.846862</td>\n",
       "      <td>2.0</td>\n",
       "      <td>2.0</td>\n",
       "      <td>2.0</td>\n",
       "      <td>2.0</td>\n",
       "      <td>2.0</td>\n",
       "      <td>1</td>\n",
       "      <td>0</td>\n",
       "      <td>1</td>\n",
       "      <td>0</td>\n",
       "      <td>0</td>\n",
       "      <td>0</td>\n",
       "      <td>1</td>\n",
       "      <td>1</td>\n",
       "      <td>0</td>\n",
       "    </tr>\n",
       "    <tr>\n",
       "      <th>4</th>\n",
       "      <td>1090.0</td>\n",
       "      <td>19.177555</td>\n",
       "      <td>72.849887</td>\n",
       "      <td>2.0</td>\n",
       "      <td>2.0</td>\n",
       "      <td>0.0</td>\n",
       "      <td>0.0</td>\n",
       "      <td>0.0</td>\n",
       "      <td>1</td>\n",
       "      <td>0</td>\n",
       "      <td>1</td>\n",
       "      <td>0</td>\n",
       "      <td>0</td>\n",
       "      <td>0</td>\n",
       "      <td>1</td>\n",
       "      <td>1</td>\n",
       "      <td>0</td>\n",
       "    </tr>\n",
       "    <tr>\n",
       "      <th>...</th>\n",
       "      <td>...</td>\n",
       "      <td>...</td>\n",
       "      <td>...</td>\n",
       "      <td>...</td>\n",
       "      <td>...</td>\n",
       "      <td>...</td>\n",
       "      <td>...</td>\n",
       "      <td>...</td>\n",
       "      <td>...</td>\n",
       "      <td>...</td>\n",
       "      <td>...</td>\n",
       "      <td>...</td>\n",
       "      <td>...</td>\n",
       "      <td>...</td>\n",
       "      <td>...</td>\n",
       "      <td>...</td>\n",
       "      <td>...</td>\n",
       "    </tr>\n",
       "    <tr>\n",
       "      <th>6250</th>\n",
       "      <td>810.0</td>\n",
       "      <td>19.138320</td>\n",
       "      <td>72.810020</td>\n",
       "      <td>2.0</td>\n",
       "      <td>2.0</td>\n",
       "      <td>0.0</td>\n",
       "      <td>0.0</td>\n",
       "      <td>0.0</td>\n",
       "      <td>1</td>\n",
       "      <td>0</td>\n",
       "      <td>0</td>\n",
       "      <td>1</td>\n",
       "      <td>0</td>\n",
       "      <td>1</td>\n",
       "      <td>0</td>\n",
       "      <td>1</td>\n",
       "      <td>0</td>\n",
       "    </tr>\n",
       "    <tr>\n",
       "      <th>6251</th>\n",
       "      <td>1400.0</td>\n",
       "      <td>19.221920</td>\n",
       "      <td>72.854250</td>\n",
       "      <td>3.0</td>\n",
       "      <td>3.0</td>\n",
       "      <td>1.0</td>\n",
       "      <td>1.0</td>\n",
       "      <td>1.0</td>\n",
       "      <td>1</td>\n",
       "      <td>0</td>\n",
       "      <td>0</td>\n",
       "      <td>1</td>\n",
       "      <td>0</td>\n",
       "      <td>0</td>\n",
       "      <td>1</td>\n",
       "      <td>1</td>\n",
       "      <td>0</td>\n",
       "    </tr>\n",
       "    <tr>\n",
       "      <th>6252</th>\n",
       "      <td>750.0</td>\n",
       "      <td>19.144320</td>\n",
       "      <td>72.824111</td>\n",
       "      <td>2.0</td>\n",
       "      <td>2.0</td>\n",
       "      <td>0.0</td>\n",
       "      <td>0.0</td>\n",
       "      <td>0.0</td>\n",
       "      <td>1</td>\n",
       "      <td>0</td>\n",
       "      <td>0</td>\n",
       "      <td>1</td>\n",
       "      <td>0</td>\n",
       "      <td>0</td>\n",
       "      <td>1</td>\n",
       "      <td>1</td>\n",
       "      <td>0</td>\n",
       "    </tr>\n",
       "    <tr>\n",
       "      <th>6253</th>\n",
       "      <td>700.0</td>\n",
       "      <td>19.047201</td>\n",
       "      <td>72.872225</td>\n",
       "      <td>2.0</td>\n",
       "      <td>2.0</td>\n",
       "      <td>0.0</td>\n",
       "      <td>0.0</td>\n",
       "      <td>0.0</td>\n",
       "      <td>1</td>\n",
       "      <td>0</td>\n",
       "      <td>0</td>\n",
       "      <td>1</td>\n",
       "      <td>1</td>\n",
       "      <td>0</td>\n",
       "      <td>0</td>\n",
       "      <td>1</td>\n",
       "      <td>0</td>\n",
       "    </tr>\n",
       "    <tr>\n",
       "      <th>6254</th>\n",
       "      <td>900.0</td>\n",
       "      <td>19.168818</td>\n",
       "      <td>72.936375</td>\n",
       "      <td>2.0</td>\n",
       "      <td>2.0</td>\n",
       "      <td>0.0</td>\n",
       "      <td>0.0</td>\n",
       "      <td>0.0</td>\n",
       "      <td>1</td>\n",
       "      <td>0</td>\n",
       "      <td>0</td>\n",
       "      <td>1</td>\n",
       "      <td>0</td>\n",
       "      <td>0</td>\n",
       "      <td>1</td>\n",
       "      <td>1</td>\n",
       "      <td>0</td>\n",
       "    </tr>\n",
       "  </tbody>\n",
       "</table>\n",
       "<p>6255 rows × 17 columns</p>\n",
       "</div>"
      ],
      "text/plain": [
       "        area   latitude  longitude  Bedrooms  Bathrooms  Balcony  parking  \\\n",
       "0      629.0  19.032800  72.896357       2.0        2.0      0.0      0.0   \n",
       "1      974.0  19.032800  72.896357       3.0        2.0      0.0      0.0   \n",
       "2      968.0  19.085600  72.909277       3.0        3.0      0.0      0.0   \n",
       "3      629.0  19.155756  72.846862       2.0        2.0      2.0      2.0   \n",
       "4     1090.0  19.177555  72.849887       2.0        2.0      0.0      0.0   \n",
       "...      ...        ...        ...       ...        ...      ...      ...   \n",
       "6250   810.0  19.138320  72.810020       2.0        2.0      0.0      0.0   \n",
       "6251  1400.0  19.221920  72.854250       3.0        3.0      1.0      1.0   \n",
       "6252   750.0  19.144320  72.824111       2.0        2.0      0.0      0.0   \n",
       "6253   700.0  19.047201  72.872225       2.0        2.0      0.0      0.0   \n",
       "6254   900.0  19.168818  72.936375       2.0        2.0      0.0      0.0   \n",
       "\n",
       "      Lift  Ready to Move  Under Construction  New Property  Resale  \\\n",
       "0      0.0              0                   1             1       0   \n",
       "1      0.0              0                   1             1       0   \n",
       "2      0.0              0                   1             1       0   \n",
       "3      2.0              1                   0             1       0   \n",
       "4      0.0              1                   0             1       0   \n",
       "...    ...            ...                 ...           ...     ...   \n",
       "6250   0.0              1                   0             0       1   \n",
       "6251   1.0              1                   0             0       1   \n",
       "6252   0.0              1                   0             0       1   \n",
       "6253   0.0              1                   0             0       1   \n",
       "6254   0.0              1                   0             0       1   \n",
       "\n",
       "      Furnished  Semi-Furnished  Unfurnished  Flat  Individual House  \n",
       "0             0               0            1     1                 0  \n",
       "1             0               0            1     1                 0  \n",
       "2             0               0            1     1                 0  \n",
       "3             0               0            1     1                 0  \n",
       "4             0               0            1     1                 0  \n",
       "...         ...             ...          ...   ...               ...  \n",
       "6250          0               1            0     1                 0  \n",
       "6251          0               0            1     1                 0  \n",
       "6252          0               0            1     1                 0  \n",
       "6253          1               0            0     1                 0  \n",
       "6254          0               0            1     1                 0  \n",
       "\n",
       "[6255 rows x 17 columns]"
      ]
     },
     "execution_count": 142,
     "metadata": {},
     "output_type": "execute_result"
    }
   ],
   "source": [
    "X"
   ]
  },
  {
   "cell_type": "code",
   "execution_count": 143,
   "id": "4e88b082",
   "metadata": {},
   "outputs": [],
   "source": [
    "X_train, X_test, y_train, y_test = train_test_split(X, y, test_size=0.2, shuffle=False)"
   ]
  },
  {
   "cell_type": "code",
   "execution_count": 144,
   "id": "c869b7ee",
   "metadata": {},
   "outputs": [
    {
     "data": {
      "text/plain": [
       "((5004, 17), (5004,), (1251, 17), (1251,))"
      ]
     },
     "execution_count": 144,
     "metadata": {},
     "output_type": "execute_result"
    }
   ],
   "source": [
    "X_train.shape, y_train.shape, X_test.shape, y_test.shape"
   ]
  },
  {
   "cell_type": "code",
   "execution_count": 145,
   "id": "f8bc4576",
   "metadata": {},
   "outputs": [
    {
     "data": {
      "text/plain": [
       "array([27177670.20618057, 38845378.00874138, 58187894.17677498, ...,\n",
       "       18345903.54318237, 23899884.27685452, 11439649.96230125])"
      ]
     },
     "execution_count": 145,
     "metadata": {},
     "output_type": "execute_result"
    }
   ],
   "source": [
    "lr = LinearRegression().fit(X_train, y_train)\n",
    "y_pred = lr.predict(X_test)\n",
    "y_pred"
   ]
  },
  {
   "cell_type": "code",
   "execution_count": 146,
   "id": "ea93bcad",
   "metadata": {},
   "outputs": [
    {
     "name": "stdout",
     "output_type": "stream",
     "text": [
      "MAE: 10231528.734740173\n",
      "MSE: 326239809616389.3\n",
      "RMSE: 18062109.777553376\n",
      "MAPE: 0.7513574051424674\n",
      "R^2: 0.640183993102154\n"
     ]
    }
   ],
   "source": [
    "print(f'MAE: {mean_absolute_error(y_test, y_pred)}')\n",
    "print(f'MSE: {mean_squared_error(y_test, y_pred)}')\n",
    "print(f'RMSE: {sqrt(mean_squared_error(y_test, y_pred))}')\n",
    "print(f'MAPE: {sqrt(mean_absolute_percentage_error(y_test, y_pred))}')\n",
    "print(f'R^2: {lr.score(X_test, y_test)}')"
   ]
  },
  {
   "cell_type": "code",
   "execution_count": 147,
   "id": "69496c6c",
   "metadata": {},
   "outputs": [
    {
     "data": {
      "text/plain": [
       "array([ 2.13771508e+04, -7.90092497e+07, -7.28394540e+07,  6.84026190e+05,\n",
       "        7.30302657e+06, -1.33150346e+05, -1.33150346e+05, -1.33150346e+05,\n",
       "       -2.09529614e+06,  2.09529614e+06,  7.06370378e+04, -7.06370378e+04,\n",
       "        1.54892456e+06, -6.43694409e+05, -9.05230150e+05,  5.12404739e+03,\n",
       "       -5.12404739e+03])"
      ]
     },
     "execution_count": 147,
     "metadata": {},
     "output_type": "execute_result"
    }
   ],
   "source": [
    "len(lr.coef_)\n",
    "lr.coef_"
   ]
  },
  {
   "cell_type": "code",
   "execution_count": 161,
   "id": "a1447c60",
   "metadata": {},
   "outputs": [
    {
     "name": "stdout",
     "output_type": "stream",
     "text": [
      "MAE: 10213691.98193858\n",
      "MSE: 326572689206124.25\n",
      "RMSE: 18071322.287152212\n",
      "MAPE: 0.7489560803228466\n",
      "R^2: 0.6398168539571887\n"
     ]
    },
    {
     "data": {
      "text/plain": [
       "array([ 2.13996964e+04, -7.82397249e+07, -7.07962894e+07,  6.71239348e+05,\n",
       "        7.33044081e+06, -1.37101776e+05, -1.37101776e+05, -1.37101776e+05,\n",
       "       -1.94383704e+06,  1.94383704e+06,  7.32798447e+04, -7.32798447e+04,\n",
       "        1.56636736e+06, -6.56597046e+05, -9.09770312e+05,  1.86416172e+04,\n",
       "       -1.86416172e+04])"
      ]
     },
     "execution_count": 161,
     "metadata": {},
     "output_type": "execute_result"
    }
   ],
   "source": [
    "#L1\n",
    "ridge = Ridge(alpha = 0.5).fit(X_train, y_train)\n",
    "y_pred = ridge.predict(X_test)\n",
    "print(f'MAE: {mean_absolute_error(y_test, y_pred)}')\n",
    "print(f'MSE: {mean_squared_error(y_test, y_pred)}')\n",
    "print(f'RMSE: {sqrt(mean_squared_error(y_test, y_pred))}')\n",
    "print(f'MAPE: {sqrt(mean_absolute_percentage_error(y_test, y_pred))}')\n",
    "print(f'R^2: {ridge.score(X_test, y_test)}')\n",
    "ridge.coef_"
   ]
  },
  {
   "cell_type": "code",
   "execution_count": 163,
   "id": "5a55cb38",
   "metadata": {},
   "outputs": [
    {
     "name": "stdout",
     "output_type": "stream",
     "text": [
      "MAE: 10213691.98193858\n",
      "MSE: 326572689206124.25\n",
      "RMSE: 18071322.287152212\n",
      "MAPE: 0.7489560803228466\n",
      "R^2: 0.6401839672614689\n"
     ]
    },
    {
     "data": {
      "text/plain": [
       "array([ 2.13771528e+04, -7.90092062e+07, -7.28393093e+07,  6.84025157e+05,\n",
       "        7.30302715e+06, -3.99451753e+05, -0.00000000e+00, -0.00000000e+00,\n",
       "       -4.18975859e+06,  1.22309415e-09,  1.41273382e+05, -0.00000000e+00,\n",
       "        2.42377011e+06,  2.31149243e+05, -3.03828178e+04,  1.02414445e+04,\n",
       "       -2.58335126e-09])"
      ]
     },
     "execution_count": 163,
     "metadata": {},
     "output_type": "execute_result"
    }
   ],
   "source": [
    "#L2\n",
    "lasso = Lasso(alpha = 0.5).fit(X_train, y_train)\n",
    "y_pred = ridge.predict(X_test)\n",
    "print(f'MAE: {mean_absolute_error(y_test, y_pred)}')\n",
    "print(f'MSE: {mean_squared_error(y_test, y_pred)}')\n",
    "print(f'RMSE: {sqrt(mean_squared_error(y_test, y_pred))}')\n",
    "print(f'MAPE: {sqrt(mean_absolute_percentage_error(y_test, y_pred))}')\n",
    "print(f'R^2: {lasso.score(X_test, y_test)}')\n",
    "lasso.coef_"
   ]
  },
  {
   "cell_type": "code",
   "execution_count": 164,
   "id": "c279aba8",
   "metadata": {},
   "outputs": [
    {
     "data": {
      "text/plain": [
       "{'alpha': 0.7000000000000001}"
      ]
     },
     "execution_count": 164,
     "metadata": {},
     "output_type": "execute_result"
    }
   ],
   "source": [
    "parameters = {'alpha' : np.arange(0, 1, 0.1)}\n",
    "ridge_optimal = GridSearchCV(Ridge(), parameters).fit(X_train, y_train)\n",
    "ridge_optimal.best_params_"
   ]
  },
  {
   "cell_type": "code",
   "execution_count": 151,
   "id": "3632d0a2",
   "metadata": {},
   "outputs": [
    {
     "data": {
      "text/plain": [
       "{'alpha': 0.7000000000000001}"
      ]
     },
     "execution_count": 151,
     "metadata": {},
     "output_type": "execute_result"
    }
   ],
   "source": [
    "ridge_optimal = RandomizedSearchCV(Ridge(), parameters).fit(X_train, y_train)\n",
    "ridge_optimal.best_params_"
   ]
  },
  {
   "cell_type": "code",
   "execution_count": 152,
   "id": "c5194461",
   "metadata": {
    "scrolled": true
   },
   "outputs": [
    {
     "data": {
      "text/plain": [
       "array([[  1.       , 629.       ,  19.0327996, ...,   1.       ,\n",
       "          0.       ,   0.       ],\n",
       "       [  1.       , 974.       ,  19.0327996, ...,   1.       ,\n",
       "          0.       ,   0.       ],\n",
       "       [  1.       , 968.       ,  19.0856   , ...,   1.       ,\n",
       "          0.       ,   0.       ],\n",
       "       ...,\n",
       "       [  1.       , 750.       ,  19.1443196, ...,   1.       ,\n",
       "          0.       ,   0.       ],\n",
       "       [  1.       , 700.       ,  19.0472012, ...,   1.       ,\n",
       "          0.       ,   0.       ],\n",
       "       [  1.       , 900.       ,  19.1688179, ...,   1.       ,\n",
       "          0.       ,   0.       ]])"
      ]
     },
     "execution_count": 152,
     "metadata": {},
     "output_type": "execute_result"
    }
   ],
   "source": [
    "#Полиноми...\n",
    "p = PolynomialFeatures(2)\n",
    "X_p= p.fit_transform(X)\n",
    "X_p"
   ]
  },
  {
   "cell_type": "code",
   "execution_count": 153,
   "id": "2facb5a0",
   "metadata": {},
   "outputs": [
    {
     "data": {
      "text/plain": [
       "array([ 7.23171244e+06,  2.77699801e+06, -1.02792509e+10, -1.02053424e+10,\n",
       "       -6.63383042e+08,  9.53743987e+08, -3.93747220e+05, -3.93744201e+05,\n",
       "       -3.93743193e+05,  8.28038822e+07, -8.28038772e+07, -7.82674491e+07,\n",
       "        7.82674642e+07,  1.20815904e+08,  9.87352153e+06, -1.30689371e+08,\n",
       "        1.04492731e+08, -1.04492706e+08, -1.32921944e+00, -6.69745589e+04,\n",
       "       -1.03085430e+05,  2.17699490e+03,  1.24234971e+03,  2.45725731e+01,\n",
       "        1.98184580e+01,  1.92554514e+01,  2.33101733e+06,  4.44646109e+05,\n",
       "        1.38789287e+06,  1.38777047e+06,  9.28113055e+05,  9.22253281e+05,\n",
       "        9.25299084e+05,  1.38442175e+06,  1.39124083e+06,  2.35095131e+07,\n",
       "        4.37613337e+08, -2.01963299e+05, -3.02587934e+07,  7.97633705e+05,\n",
       "        7.97633696e+05,  7.97633698e+05, -8.72750105e+09, -1.55174989e+09,\n",
       "       -5.13770384e+09, -5.14154709e+09, -3.43606514e+09, -3.42323622e+09,\n",
       "       -3.41994958e+09, -5.14491448e+09, -5.13433646e+09,  1.34654452e+08,\n",
       "        3.03802993e+07, -3.17179409e+07, -1.96855794e+05, -1.96855794e+05,\n",
       "       -1.96855792e+05, -4.17517224e+09, -6.03017015e+09, -5.09963879e+09,\n",
       "       -5.10570359e+09, -3.40555656e+09, -3.40274234e+09, -3.39704348e+09,\n",
       "       -5.10732249e+09, -5.09801990e+09, -8.04715795e+05,  1.32188965e+05,\n",
       "       -8.93656427e+04, -8.93656372e+04, -8.93656378e+04, -6.56727731e+08,\n",
       "       -6.65530862e+06, -3.30217817e+08, -3.33165223e+08, -2.21828399e+08,\n",
       "       -2.19872097e+08, -2.21682543e+08, -3.31063246e+08, -3.32319793e+08,\n",
       "        7.84396222e+05,  3.49838896e+05,  3.49838895e+05,  3.49838895e+05,\n",
       "        6.60266600e+08,  2.93477383e+08,  4.75830792e+08,  4.77913191e+08,\n",
       "        3.19279218e+08,  3.16790452e+08,  3.17674313e+08,  4.77357481e+08,\n",
       "        4.76386503e+08, -5.98091363e+04, -5.98091333e+04, -5.98091299e+04,\n",
       "       -3.93745859e+05,  0.00000000e+00, -2.27636986e+05, -1.66108874e+05,\n",
       "       -3.25888673e+05,  9.08783844e+04, -1.58735569e+05, -2.32077204e+05,\n",
       "       -1.61668657e+05, -5.98091303e+04, -5.98091303e+04, -3.93745859e+05,\n",
       "        0.00000000e+00, -2.27636986e+05, -1.66108873e+05, -3.25888673e+05,\n",
       "        9.08783882e+04, -1.58735568e+05, -2.32077202e+05, -1.61668657e+05,\n",
       "       -5.98091326e+04, -3.93745859e+05,  0.00000000e+00, -2.27636986e+05,\n",
       "       -1.66108873e+05, -3.25888673e+05,  9.08783882e+04, -1.58735569e+05,\n",
       "       -2.32077201e+05, -1.61668655e+05,  8.28038860e+07,  0.00000000e+00,\n",
       "        4.53643471e+06,  7.82674513e+07,  1.20815924e+08,  9.87350852e+06,\n",
       "       -4.78855469e+07,  1.87296680e+08, -1.04492794e+08, -8.28038860e+07,\n",
       "       -8.28038860e+07,  0.00000000e+00,  0.00000000e+00,  0.00000000e+00,\n",
       "       -8.28038860e+07, -8.28038860e+07,  0.00000000e+00, -7.82674513e+07,\n",
       "        0.00000000e+00,  3.34632903e+07, -2.04251063e+07, -9.13056353e+07,\n",
       "        1.30389862e+07, -9.13064375e+07,  7.82674513e+07,  8.73526340e+07,\n",
       "        3.02986148e+07, -3.93837975e+07,  9.14538076e+07, -1.31863563e+07,\n",
       "        1.20815924e+08,  0.00000000e+00,  0.00000000e+00,  9.60525530e+07,\n",
       "        2.47633713e+07,  9.87350852e+06,  0.00000000e+00,  3.94583265e+07,\n",
       "       -2.95848180e+07, -1.30689433e+08, -3.10180857e+07, -9.96713472e+07,\n",
       "        1.04492794e+08,  0.00000000e+00, -1.04492794e+08])"
      ]
     },
     "execution_count": 153,
     "metadata": {},
     "output_type": "execute_result"
    }
   ],
   "source": [
    "lr2 = LinearRegression().fit(X_p, y)\n",
    "lr2.coef_"
   ]
  },
  {
   "cell_type": "code",
   "execution_count": 154,
   "id": "45ef56a1",
   "metadata": {
    "scrolled": true
   },
   "outputs": [
    {
     "ename": "IndexError",
     "evalue": "invalid index to scalar variable.",
     "output_type": "error",
     "traceback": [
      "\u001b[1;31m---------------------------------------------------------------------------\u001b[0m",
      "\u001b[1;31mIndexError\u001b[0m                                Traceback (most recent call last)",
      "Cell \u001b[1;32mIn[154], line 2\u001b[0m\n\u001b[0;32m      1\u001b[0m X_d \u001b[38;5;241m=\u001b[39m X\n\u001b[1;32m----> 2\u001b[0m y_d \u001b[38;5;241m=\u001b[39m \u001b[43mlr2\u001b[49m\u001b[38;5;241;43m.\u001b[39;49m\u001b[43mcoef_\u001b[49m\u001b[43m[\u001b[49m\u001b[38;5;241;43m0\u001b[39;49m\u001b[43m]\u001b[49m\u001b[43m[\u001b[49m\u001b[38;5;241;43m2\u001b[39;49m\u001b[43m]\u001b[49m \u001b[38;5;241m+\u001b[39m lr2\u001b[38;5;241m.\u001b[39mcoef_[\u001b[38;5;241m0\u001b[39m][\u001b[38;5;241m1\u001b[39m]\u001b[38;5;241m*\u001b[39mX_d \u001b[38;5;241m+\u001b[39m lr2\u001b[38;5;241m.\u001b[39mcoef_[\u001b[38;5;241m0\u001b[39m][\u001b[38;5;241m0\u001b[39m]\u001b[38;5;241m*\u001b[39mX_d\u001b[38;5;241m*\u001b[39m\u001b[38;5;241m*\u001b[39m\u001b[38;5;241m2\u001b[39m\n\u001b[0;32m      3\u001b[0m y_d\n",
      "\u001b[1;31mIndexError\u001b[0m: invalid index to scalar variable."
     ]
    }
   ],
   "source": [
    "X_d = X\n",
    "y_d = lr2.coef_[0][2] + lr2.coef_[0][1]*X_d + lr2.coef_[0][0]*X_d**2\n",
    "y_d"
   ]
  },
  {
   "cell_type": "code",
   "execution_count": 155,
   "id": "18bbc17b",
   "metadata": {},
   "outputs": [
    {
     "data": {
      "text/plain": [
       "(6255, 171)"
      ]
     },
     "execution_count": 155,
     "metadata": {},
     "output_type": "execute_result"
    }
   ],
   "source": [
    "X_p.shape"
   ]
  },
  {
   "cell_type": "code",
   "execution_count": 156,
   "id": "4ab9473c",
   "metadata": {},
   "outputs": [
    {
     "data": {
      "text/plain": [
       "(6255, 17)"
      ]
     },
     "execution_count": 156,
     "metadata": {},
     "output_type": "execute_result"
    }
   ],
   "source": [
    "X.shape"
   ]
  },
  {
   "cell_type": "code",
   "execution_count": null,
   "id": "ddae2a6e",
   "metadata": {},
   "outputs": [],
   "source": [
    "class LinRegression:\n",
    "    def __init__(self, X_train, y_train):\n",
    "        self.X_train = X_tain\n",
    "        self.y_train = y_train\n",
    "        \n",
    "        \n",
    "        \n",
    "        "
   ]
  }
 ],
 "metadata": {
  "kernelspec": {
   "display_name": "Python 3 (ipykernel)",
   "language": "python",
   "name": "python3"
  },
  "language_info": {
   "codemirror_mode": {
    "name": "ipython",
    "version": 3
   },
   "file_extension": ".py",
   "mimetype": "text/x-python",
   "name": "python",
   "nbconvert_exporter": "python",
   "pygments_lexer": "ipython3",
   "version": "3.9.13"
  },
  "vscode": {
   "interpreter": {
    "hash": "a11e72d4e38986fcb8b81bc47ac3b5e50302de5090c9e48513f0b7cce9c37f05"
   }
  }
 },
 "nbformat": 4,
 "nbformat_minor": 5
}
